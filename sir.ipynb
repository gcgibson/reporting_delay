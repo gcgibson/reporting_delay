{
 "cells": [
  {
   "cell_type": "code",
   "execution_count": null,
   "metadata": {
    "collapsed": true
   },
   "outputs": [],
   "source": [
    "import numpy as np\n",
    "from scipy.integrate import odeint\n",
    "import matplotlib.pyplot as plt\n",
    "from scipy import integrate, optimize\n",
    "from sklearn import preprocessing\n",
    "\n",
    "\n",
    "\n",
    "\n",
    "\n",
    "\n",
    "def get_sir_trajectories(ldata):\n",
    "    n= int(len(ldata)/52.0)\n",
    "    season_data =  list(ldata[i:i+n] for i in range(0, len(ldata), n))\n",
    "\n",
    "\n",
    "    sampled_trajectories = []\n",
    "    for season in season_data:\n",
    "        scale_factor= 1\n",
    "        min_max_scaler = preprocessing.MinMaxScaler()\n",
    "\n",
    "        ydata = min_max_scaler.fit_transform(season.reshape((-1,1)))\n",
    "        ydata = ydata.reshape((-1))\n",
    "\n",
    "\n",
    "        xdata = np.arange(1,scale_factor*len(ydata)+1,step=scale_factor)\n",
    "        def sir_model(y, x, beta, gamma):\n",
    "            S = -beta * y[0] * y[1] / N\n",
    "            R = gamma * y[1]\n",
    "            I = -(S + R)\n",
    "            return S, I, R\n",
    "\n",
    "        def fit_odeint(x, beta, gamma):\n",
    "            return integrate.odeint(sir_model, (S0, I0, R0), x, args=(beta, gamma))[:,1]\n",
    "\n",
    "        N = 1.0\n",
    "        I0 = ydata[0]\n",
    "        S0 = N - I0\n",
    "        R0 = 0.0\n",
    "        popt, pcov = optimize.curve_fit(fit_odeint, xdata, ydata)\n",
    "        fitted = fit_odeint(xdata, *popt)\n",
    "        sampled_trajectories.append(fitted)\n",
    "    \n",
    "    wtf = np.array(sampled_trajectories).flatten().tolist()\n",
    "    wtf = np.array(wtf).reshape((1,-1))\n",
    "    tmp = min_max_scaler.inverse_transform(wtf)\n",
    "    return tmp.reshape((-1,))\n",
    "local_sampled_trajectories= get_sir_trajectories(data)\n",
    "plt.plot(local_sampled_trajectories, 'o')\n",
    "plt.show()"
   ]
  }
 ],
 "metadata": {
  "kernelspec": {
   "display_name": "Python 2",
   "language": "python",
   "name": "python2"
  },
  "language_info": {
   "codemirror_mode": {
    "name": "ipython",
    "version": 2
   },
   "file_extension": ".py",
   "mimetype": "text/x-python",
   "name": "python",
   "nbconvert_exporter": "python",
   "pygments_lexer": "ipython2",
   "version": "2.7.13"
  }
 },
 "nbformat": 4,
 "nbformat_minor": 2
}
