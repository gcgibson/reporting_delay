{
 "cells": [
  {
   "cell_type": "code",
   "execution_count": null,
   "metadata": {
    "collapsed": true
   },
   "outputs": [],
   "source": [
    "prov_to_index = [\"Bangkok Metropolis\",\"Samut Prakan\",\"Nonthaburi\",\"Pathum Thani\",\"Phra Nakhon Si Ayutthaya\",\"Ang Thong\",\"Lop Buri\",\"Sing Buri\",\"Chai Nat\",\"Saraburi\",\"Chon Buri\",\"Rayong\",\"Chanthaburi\",\"Trat\",\"Chachoengsao\",\"Prachin Buri\",\"Nakhon Nayok\",\"Sa Kaeo\",\"Nakhon Ratchasima\",\"Buri Ram\",\"Surin\",\"Si Sa Ket\",\"Ubon Ratchathani\",\"Yasothon\",\"Chaiyaphum\",\"Amnat Charoen\",\"Bueng Kan\",\"Nong Bua Lam Phu\",\"Khon Kaen\",\"Udon Thani\",\"Loei\",\"Nong Khai\",\"Maha Sarakham\",\"Roi Et\",\"Kalasin\",\"Sakon Nakhon\",\"Nakhon Phanom\",\"Mukdahan\",\"Chiang Mai\",\"Lamphun\",\"Lampang\",\"Uttaradit\",\"Phrae\",\"Nan\",\"Phayao\",\"Chiang Rai\",\"Mae Hong Son\",\"Nakhon Sawan\",\"Uthai Thani\",\"Kamphaeng Phet\",\"Tak\",\"Sukhothai\",\"Phitsanulok\",\"Phichit\",\"Phetchabun\",\"Ratchaburi\",\"Kanchanaburi\",\"Suphan Buri\",\"Nakhon Pathom\",\"Samut Sakhon\",\"Samut Songkhram\",\"Phetchaburi\",\"Prachuap Khiri Khan\",\"Nakhon Si Thammarat\",\"Krabi\",\"Phangnga\",\"Phuket\",\"Surat Thani\",\"Ranong\",\"Chumphon\",\"Songkhla\",\"Satun\",\"Trang\",\"Phatthalung\",\"Pattani\",\"Yala\",\"Narathiwat\"]"
   ]
  },
  {
   "cell_type": "code",
   "execution_count": 32,
   "metadata": {},
   "outputs": [
    {
     "data": {
      "image/png": "[encoded data removed]",
      "text/plain": [
       "<matplotlib.figure.Figure at 0x10a6043d0>"
      ]
     },
     "metadata": {},
     "output_type": "display_data"
    }
   ],
   "source": [
    "from contextlib import contextmanager\n",
    "import sys, os\n",
    "\n",
    "@contextmanager\n",
    "def suppress_stdout():\n",
    "    with open(os.devnull, \"w\") as devnull:\n",
    "        old_stdout = sys.stdout\n",
    "        sys.stdout = devnull\n",
    "        try:  \n",
    "            yield\n",
    "        finally:\n",
    "            sys.stdout = old_stdout\n",
    "            \n",
    "            \n",
    "import numpy as np\n",
    "import matplotlib.pyplot as plt\n",
    "plt.style.use('ggplot')\n",
    "\n",
    "plt.rcParams['lines.linewidth']=1\n",
    "plt.rcParams['axes.facecolor']='w'\n",
    "\n",
    "\n",
    "p_hat_vec = []\n",
    "n_t_ds = []\n",
    "for prov in [10,48]:\n",
    "    n_t_d = []\n",
    "    with open(\"province-biweek_with_delays.csv\") as f:\n",
    "        i = 0\n",
    "        for line in f.readlines():\n",
    "            if i > 0:\n",
    "                n_t_d.append(line.replace(\"\\n\",\"\").split(','))\n",
    "            i+=1\n",
    "\n",
    "\n",
    "    n_t_d_1 = []\n",
    "\n",
    "    for elm in n_t_d:\n",
    "        #print (elm[2])\n",
    "        if elm[2] == str(prov):\n",
    "            n_t_d_1.append(elm)\n",
    "\n",
    "\n",
    "    index_to_dates = {}\n",
    "    dates_to_index = {}\n",
    "    count = 0\n",
    "    for i in [\"2014\",\"2015\",\"2016\"]:\n",
    "        for j in range(1,27):\n",
    "            index_to_dates[count] = str(i)+str(j)\n",
    "            dates_to_index[str(i)+str(j)] = count\n",
    "            count +=1\n",
    "\n",
    "    reporting_matrix = np.zeros((26*3,26*3))\n",
    "\n",
    "    for elm in n_t_d_1:\n",
    "        try:\n",
    "            sick_date = elm[0]+elm[1]\n",
    "            report_date = elm[-2] + elm[-1]\n",
    "            cases = elm[3]\n",
    "            reporting_matrix_row = dates_to_index[sick_date] \n",
    "            reporting_matrix_col =  dates_to_index[report_date] \n",
    "            reporting_matrix[reporting_matrix_row,reporting_matrix_col] = int(cases)\n",
    "        except:\n",
    "            pass\n",
    "    np.set_printoptions(suppress=True)    #np.set_printoptions(threshold=np.nan)\n",
    "    D=26\n",
    "    n_t_d = np.zeros((len(reporting_matrix),D))\n",
    "\n",
    "    for i in range(len(reporting_matrix)):\n",
    "        for j in range(i,i+D):\n",
    "            try:\n",
    "                n_t_d[i,j-i] = reporting_matrix[i][j]\n",
    "            except:\n",
    "                pass\n",
    "    n_t_ds.append(n_t_d)\n",
    "        \n",
    "n_t_ds = np.array(n_t_ds)\n",
    "\n",
    "for itr in range(len(n_t_ds)):\n",
    "    plt.plot(np.sum(n_t_ds[itr],axis=0)/np.sum(n_t_ds[itr]))\n",
    "\n",
    "plt.xlabel(\"Delay\")\n",
    "#plt.title(\"Delay Proportions Across All Provinces\")\n",
    "plt.ylabel(\"Proportion of Cases Observed\")\n",
    "plt.legend((\"Bangkok\",\"Chiang Mai\"))\n",
    "plt.show()\n",
    "    \n",
    "     "
   ]
  },
  {
   "cell_type": "code",
   "execution_count": 119,
   "metadata": {
    "collapsed": true
   },
   "outputs": [],
   "source": [
    "#print p_hat_vec\n",
    "\n",
    "\n",
    "np.savetxt(\"FOOBAH.csv\", p_hat_vec, delimiter=\",\")\n"
   ]
  },
  {
   "cell_type": "code",
   "execution_count": null,
   "metadata": {
    "collapsed": true
   },
   "outputs": [],
   "source": []
  }
 ],
 "metadata": {
  "kernelspec": {
   "display_name": "Python 2",
   "language": "python",
   "name": "python2"
  },
  "language_info": {
   "codemirror_mode": {
    "name": "ipython",
    "version": 2
   },
   "file_extension": ".py",
   "mimetype": "text/x-python",
   "name": "python",
   "nbconvert_exporter": "python",
   "pygments_lexer": "ipython2",
   "version": "2.7.13"
  }
 },
 "nbformat": 4,
 "nbformat_minor": 2
}
