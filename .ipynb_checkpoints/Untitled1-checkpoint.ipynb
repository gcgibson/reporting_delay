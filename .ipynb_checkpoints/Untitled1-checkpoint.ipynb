{
 "cells": [
  {
   "cell_type": "code",
   "execution_count": 50,
   "metadata": {},
   "outputs": [
    {
     "name": "stdout",
     "output_type": "stream",
     "text": [
      "9626\n",
      "988\n"
     ]
    }
   ],
   "source": [
    "data = []\n",
    "count =0\n",
    "with open (\"/Users/gcgibson/Downloads/San_Juan_Training_Data.csv\") as f:\n",
    "            for line in f.readlines():\n",
    "                if count > 0:\n",
    "                    data.append(line.replace(\"\\n\",\"\").split(',')[-1])\n",
    "                count +=1\n",
    "                \n",
    "import numpy as np\n",
    "x1 = []\n",
    "last_mo = 1\n",
    "agg_arr = []\n",
    "with open(\"/Users/gcgibson/Downloads/SanJuan_Precip.csv\") as f:\n",
    "    for line in f.readlines():\n",
    "        splt_line = line.replace(\"\\n\",\"\").split(',')\n",
    "        if int(splt_line[0]) >= 1990:\n",
    "            if int(splt_line[1]) == 1:\n",
    "                    agg_arr = np.zeros(13)\n",
    "                    x1.append(agg_arr)\n",
    "            x1.append(line)\n",
    "            agg_arr[int(splt_line[1])] += float(splt_line[-1])\n",
    "        \n",
    "print (len(x1))\n",
    "print (len(data))"
   ]
  },
  {
   "cell_type": "markdown",
   "metadata": {},
   "source": [
    "## print (x1)"
   ]
  },
  {
   "cell_type": "code",
   "execution_count": null,
   "metadata": {
    "collapsed": true
   },
   "outputs": [],
   "source": []
  }
 ],
 "metadata": {
  "kernelspec": {
   "display_name": "Python 2",
   "language": "python",
   "name": "python2"
  },
  "language_info": {
   "codemirror_mode": {
    "name": "ipython",
    "version": 2
   },
   "file_extension": ".py",
   "mimetype": "text/x-python",
   "name": "python",
   "nbconvert_exporter": "python",
   "pygments_lexer": "ipython2",
   "version": "2.7.13"
  }
 },
 "nbformat": 4,
 "nbformat_minor": 2
}
