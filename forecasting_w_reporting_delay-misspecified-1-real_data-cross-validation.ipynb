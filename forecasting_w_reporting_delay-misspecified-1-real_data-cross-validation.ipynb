{
 "cells": [
  {
   "cell_type": "markdown",
   "metadata": {},
   "source": [
    "### Table of Contents\n",
    "- Intro\n",
    "- Nowcast\n",
    "- Using Nowcast to improve Forecast\n",
    "\n",
    "\n",
    "\n",
    "## Introduction\n",
    "\n",
    "\n",
    "Forecasting in the presence of reporting delay: simulation study. Given some delayed data, can we use the method described in Gibson, Reich, Ray to improve forecasts based on predicted values of nowcasting. \n",
    "\n",
    "Strategy\n",
    "\n",
    "\n",
    "- Generate data for t=0..100\n",
    "- Delay data from t=90..100 according to fixed delay proportions (that is artificially scale down the data)\n",
    "- Fit delay model to simulated delayed data\n",
    "- Generate nowcasts for t0=90..100\n",
    "- Retrain process model on mean predicted nowcasts (t=90..100)\n",
    "- Forecast t=100-110 using updated process model and original process model \n",
    "- Compare MSE\n",
    "\n",
    "### Notation \n",
    "\n",
    "We define $y_t$ as an observed value of this incidence in time interval $t$ from our time series $\\{y_1, y_2, y_3, \\dots\\, y_t, \\dots, y_T\\}$.\n",
    "We assume that these observations are draws from random variables $Y_1, Y_2, Y_3, \\dots, Y_t, \\dots, Y_T$, whose probability distributions can be thought of as a function of $t$, prior values of $y$ represented as $y_{1:t}$, and other covariates $x_t$.\n",
    "We use $T$ throughout to refer to the total number of time points in the time-series and $t$ to refer to a specific time point relative to which a forecast is generated.\n",
    "\n",
    "\n",
    "For forecasts of the time-series values itself, \\ie when a target is defined to be a past or future value of the time-series $Y_{t+k}$, we use a special nomenclature, referring to them as `k-step-ahead` forecasts.  \n",
    "We define $Z_{i|t}$ as a random variable for target $i$ positioned relative to time $t$. For example, in the infectious disease context, $Z_{i|t}$ could be:\n",
    "\n",
    " - incidence at time $t$, or $Y_t$,\n",
    " - incidence at time $t+k$ either in the future or past relative to time $t$, or $Y_{t+k}$, where $k$ is a positive or negative integer,\n",
    " - peak incidence within some period of time or season, or $\\max_t (Y_t)$ where $t$ are defined to be within a season,\n",
    "    \\item the time at which a peak occurs within some season, or $\\{ t': Y_{t'} = \\max_t (Y_t) \\} $\n",
    " - a binary indicator of whether incidence at time $t+k$ is above a specified threshold $C$, or $\\mathds{1} \\{Y_{t+k}>C\\}$.\n",
    "\\end{itemize}\n",
    "\n",
    "\n",
    "A forecast must provide {\\em quantitative and probabilistic} information about an outcome.\n",
    "In the context of this notation, a forecast can be represented as a predictive density function for a target, or $f_{z_{i|t}}(z|y_{1:t}, t, x_{t})$.\n",
    "The form of this density function will depend on the type of variable that $Z$ is, and it could be derived from a known parametric distribution or specified directly.\n",
    "\n",
    "In our initial experiments we are mostly concerned with the following distribution\n",
    "\n",
    "$$f_{Y_{t+k}|i}(Y_t | y_{1:t},t,x_t)$$\n",
    "\n",
    "that is, $k-step$ ahead forecast relative to time $t$.\n",
    "\n",
    "\n",
    "To enable clear definitions for forecasting in real-time, forecasts must be associated with a specific time $t$.\n",
    "In our database infrastructure, we refer to this time as a {\\tt timezero}.\n",
    "This specific time $t$ represents the point relative to which targets are defined.\n",
    "For example, if a forecast is associated with week 45 in 2013, then a `1-step-ahead' forecast would be associated with incidence in week 46 of 2013 and a `3-step-ahead' forecast would be associated with week 48.\n",
    "This {\\tt timezero} is not an intrinsic feature of a project or dataset, and is more or less arbitrarily defined or named by the data analyst or project organizers.\n",
    "For example, in the project above, if we defined a timezero as week 44 in 2013 then a `2-step-ahead' forecast would be associated with incidence in week 46, same as a `1-week-ahead' forecast from week 45.\n",
    "\n",
    "However, a second important date further refines our notion of what constitutes a forecast. \n",
    "We define a date $d$ as a {\\tt data-version-date}. \n",
    "Taken together, a $(t,d)$ pair uniquely define a forecast setting.\n",
    "Specifically, a forecast for $(t,d)$ represents forecasts for targets relative to date $t$ using data available at date $d$. "
   ]
  },
  {
   "cell_type": "markdown",
   "metadata": {},
   "source": [
    "## Simulation Study, fixing delay proportions and generating nowcast"
   ]
  },
  {
   "cell_type": "code",
   "execution_count": 2,
   "metadata": {},
   "outputs": [
    {
     "data": {
      "image/png": "[encoded data removed]",
      "text/plain": [
       "<matplotlib.figure.Figure at 0x10e6cb710>"
      ]
     },
     "metadata": {},
     "output_type": "display_data"
    }
   ],
   "source": [
    "import numpy as np\n",
    "import matplotlib.pyplot as plt\n",
    "\n",
    "\n",
    "n_t_d = []\n",
    "with open(\"province-biweek_with_delays.csv\") as f:\n",
    "    i = 0\n",
    "    for line in f.readlines():\n",
    "        if i > 0:\n",
    "            n_t_d.append(line.replace(\"\\n\",\"\").split(','))\n",
    "        i+=1\n",
    "\n",
    "n_t_d_1 = []\n",
    "\n",
    "for elm in n_t_d:\n",
    "    if elm[2] == \"11\":\n",
    "        n_t_d_1.append(elm)\n",
    "\n",
    "\n",
    "index_to_dates = {}\n",
    "dates_to_index = {}\n",
    "count = 0\n",
    "for i in [\"2014\",\"2015\",\"2016\"]:\n",
    "    for j in range(1,27):\n",
    "        index_to_dates[count] = str(i)+str(j)\n",
    "        dates_to_index[str(i)+str(j)] = count\n",
    "        count +=1\n",
    "        \n",
    "reporting_matrix = np.zeros((26*3,26*3))\n",
    "\n",
    "for elm in n_t_d_1:\n",
    "    try:\n",
    "        sick_date = elm[0]+elm[1]\n",
    "        report_date = elm[-2] + elm[-1]\n",
    "        cases = elm[3]\n",
    "        reporting_matrix_row = dates_to_index[sick_date] \n",
    "        reporting_matrix_col =  dates_to_index[report_date] \n",
    "        reporting_matrix[reporting_matrix_row,reporting_matrix_col] = int(cases)\n",
    "    except:\n",
    "        pass\n",
    "#np.set_printoptions(threshold=np.nan)\n",
    "\n",
    "plt.plot(reporting_matrix.sum(axis=1))\n",
    "plt.show()"
   ]
  },
  {
   "cell_type": "code",
   "execution_count": 3,
   "metadata": {},
   "outputs": [
    {
     "name": "stdout",
     "output_type": "stream",
     "text": [
      "78\n",
      "0.042977530803083634\n"
     ]
    },
    {
     "data": {
      "image/png": "[encoded data removed]",
      "text/plain": [
       "<matplotlib.figure.Figure at 0x10f582ed0>"
      ]
     },
     "metadata": {},
     "output_type": "display_data"
    }
   ],
   "source": [
    "print (len(reporting_matrix))\n",
    "D=10\n",
    "n_t_d = np.zeros((len(reporting_matrix),D))\n",
    "\n",
    "for i in range(len(reporting_matrix)):\n",
    "    for j in range(i,i+D):\n",
    "        try:\n",
    "            n_t_d[i,j-i] = reporting_matrix[i][j]\n",
    "        except:\n",
    "            pass\n",
    "n_t_d = n_t_d[:-1]\n",
    "p_hat = []\n",
    "from matplotlib.pyplot import cm\n",
    "\n",
    "for i in range(len(n_t_d)):\n",
    "    p_hat.append(n_t_d[i]/np.sum(n_t_d[i]))\n",
    "    \n",
    "p_hat = np.array(p_hat)\n",
    "print (np.var(p_hat[:2]))\n",
    "plt.figure(figsize=(8,8))\n",
    "plt.ylabel(\"Bi-week\")\n",
    "plt.xlabel(\"d\")\n",
    "plt.imshow(p_hat,aspect='auto',cmap=cm.Blues)\n",
    "plt.legend()\n",
    "plt.colorbar()\n",
    "plt.show()"
   ]
  },
  {
   "cell_type": "code",
   "execution_count": 214,
   "metadata": {},
   "outputs": [
    {
     "ename": "NameError",
     "evalue": "name 'plt' is not defined",
     "output_type": "error",
     "traceback": [
      "\u001b[0;31m---------------------------------------------------------------------------\u001b[0m",
      "\u001b[0;31mNameError\u001b[0m                                 Traceback (most recent call last)",
      "\u001b[0;32m<ipython-input-214-3c2b9a2b1e16>\u001b[0m in \u001b[0;36m<module>\u001b[0;34m()\u001b[0m\n\u001b[1;32m     28\u001b[0m \u001b[0;34m\u001b[0m\u001b[0m\n\u001b[1;32m     29\u001b[0m \u001b[0;34m\u001b[0m\u001b[0m\n\u001b[0;32m---> 30\u001b[0;31m \u001b[0mplt\u001b[0m\u001b[0;34m.\u001b[0m\u001b[0mfigure\u001b[0m\u001b[0;34m(\u001b[0m\u001b[0mfigsize\u001b[0m\u001b[0;34m=\u001b[0m\u001b[0;34m(\u001b[0m\u001b[0;36m8\u001b[0m\u001b[0;34m,\u001b[0m\u001b[0;36m8\u001b[0m\u001b[0;34m)\u001b[0m\u001b[0;34m)\u001b[0m\u001b[0;34m\u001b[0m\u001b[0m\n\u001b[0m\u001b[1;32m     31\u001b[0m \u001b[0mplt\u001b[0m\u001b[0;34m.\u001b[0m\u001b[0mylabel\u001b[0m\u001b[0;34m(\u001b[0m\u001b[0;34m\"Bi-week\"\u001b[0m\u001b[0;34m)\u001b[0m\u001b[0;34m\u001b[0m\u001b[0m\n\u001b[1;32m     32\u001b[0m \u001b[0mplt\u001b[0m\u001b[0;34m.\u001b[0m\u001b[0mxlabel\u001b[0m\u001b[0;34m(\u001b[0m\u001b[0;34m\"d\"\u001b[0m\u001b[0;34m)\u001b[0m\u001b[0;34m\u001b[0m\u001b[0m\n",
      "\u001b[0;31mNameError\u001b[0m: name 'plt' is not defined"
     ]
    }
   ],
   "source": [
    "# list for holding simulated data, length 260\n",
    "arr_list = np.zeros(260)\n",
    "# iterate over season  \n",
    "for s in range(10):\n",
    "    #iterate over biweek per season\n",
    "    for t in range(26):\n",
    "        season_effect = np.random.choice([10,10,10], p = [0.2, 0.6, 0.2])\n",
    "        e_y = season_effect*np.cos(10*(t+np.pi)/(13*np.pi)) + season_effect\n",
    "        arr_list[(s-1)*26+t] = np.random.poisson(10*e_y) \n",
    "\n",
    "# plot simulated data to make sure it looks like ID        \n",
    "ts = arr_list[:100]\n",
    "\n",
    "p_vec = np.random.dirichlet(np.append([50,100,200,100,100],np.ones(D-5)),size=1)[0]\n",
    "\n",
    "\n",
    "sim_n_t_d = []\n",
    "for i in range(78):\n",
    "    tmp1 = np.random.multinomial(ts[i],p_vec,size=D).tolist()[0]\n",
    "    sim_n_t_d.append(tmp1 )\n",
    "sim_n_t_d = np.array(sim_n_t_d,dtype=np.float32)    \n",
    "    \n",
    "p_hat_sim = []\n",
    "from matplotlib.pyplot import cm\n",
    "\n",
    "for i in range(len(n_t_d)):\n",
    "    p_hat_sim.append(sim_n_t_d[i]/np.sum(sim_n_t_d[i]))\n",
    "    \n",
    "    \n",
    "plt.figure(figsize=(8,8))\n",
    "plt.ylabel(\"Bi-week\")\n",
    "plt.xlabel(\"d\")\n",
    "plt.imshow(p_hat_sim,aspect='auto',cmap=cm.Blues)\n",
    "plt.legend()\n",
    "plt.colorbar()\n",
    "plt.show()\n",
    "\n",
    "plt.plot(sim_n_t_d.sum(axis=1))\n",
    "plt.show()"
   ]
  },
  {
   "cell_type": "markdown",
   "metadata": {},
   "source": [
    "In order to simulate delayed data we first randomly simualte the delay proportions from a dirichlet distribution"
   ]
  },
  {
   "cell_type": "markdown",
   "metadata": {},
   "source": [
    "If the true delay distribution is given by \n",
    "$$p_0,...,p_{9} \\sim Dirichlet(\\alpha_1,...,\\alpha_{10})$$\n",
    "\n",
    "we can interpret $p_i$ as the percentage of cases that were delayed by $i$ days."
   ]
  },
  {
   "cell_type": "code",
   "execution_count": 9,
   "metadata": {},
   "outputs": [
    {
     "name": "stdout",
     "output_type": "stream",
     "text": [
      "Fit ARIMA: order=(1, 1, 1) seasonal_order=(0, 1, 1, 12); AIC=2183.756, BIC=2201.560, Fit time=1.743 seconds\n",
      "Fit ARIMA: order=(0, 1, 0) seasonal_order=(0, 1, 0, 12); AIC=nan, BIC=nan, Fit time=nan seconds\n",
      "Fit ARIMA: order=(1, 1, 0) seasonal_order=(1, 1, 0, 12); AIC=2194.376, BIC=2208.619, Fit time=0.747 seconds\n",
      "Fit ARIMA: order=(0, 1, 1) seasonal_order=(0, 1, 1, 12); AIC=2250.220, BIC=2264.463, Fit time=0.555 seconds\n",
      "Fit ARIMA: order=(1, 1, 1) seasonal_order=(1, 1, 1, 12); AIC=2154.851, BIC=2176.215, Fit time=3.541 seconds\n",
      "Fit ARIMA: order=(1, 1, 1) seasonal_order=(1, 1, 0, 12); AIC=2201.088, BIC=2218.892, Fit time=1.323 seconds\n",
      "Fit ARIMA: order=(1, 1, 1) seasonal_order=(1, 1, 2, 12); AIC=2140.835, BIC=2165.760, Fit time=4.453 seconds\n",
      "Fit ARIMA: order=(0, 1, 1) seasonal_order=(1, 1, 2, 12); AIC=2135.626, BIC=2156.990, Fit time=4.458 seconds\n",
      "Fit ARIMA: order=(0, 1, 0) seasonal_order=(1, 1, 2, 12); AIC=2146.540, BIC=2164.344, Fit time=3.802 seconds\n",
      "Fit ARIMA: order=(0, 1, 2) seasonal_order=(1, 1, 2, 12); AIC=2135.876, BIC=2160.801, Fit time=4.168 seconds\n",
      "Fit ARIMA: order=(1, 1, 2) seasonal_order=(1, 1, 2, 12); AIC=2111.710, BIC=2140.196, Fit time=5.458 seconds\n",
      "Fit ARIMA: order=(1, 1, 2) seasonal_order=(0, 1, 2, 12); AIC=2136.760, BIC=2161.685, Fit time=6.038 seconds\n",
      "Fit ARIMA: order=(1, 1, 2) seasonal_order=(2, 1, 2, 12); AIC=nan, BIC=nan, Fit time=nan seconds\n",
      "Fit ARIMA: order=(1, 1, 2) seasonal_order=(1, 1, 1, 12); AIC=2120.955, BIC=2145.880, Fit time=3.837 seconds\n",
      "Fit ARIMA: order=(1, 1, 2) seasonal_order=(0, 1, 1, 12); AIC=2138.158, BIC=2159.522, Fit time=2.984 seconds\n",
      "Fit ARIMA: order=(2, 1, 2) seasonal_order=(1, 1, 2, 12); AIC=2106.108, BIC=2138.154, Fit time=7.074 seconds\n",
      "Fit ARIMA: order=(2, 1, 1) seasonal_order=(1, 1, 2, 12); AIC=2112.531, BIC=2141.017, Fit time=4.418 seconds\n",
      "Fit ARIMA: order=(2, 1, 3) seasonal_order=(1, 1, 2, 12); AIC=nan, BIC=nan, Fit time=nan seconds\n",
      "Fit ARIMA: order=(3, 1, 3) seasonal_order=(1, 1, 2, 12); AIC=nan, BIC=nan, Fit time=nan seconds\n",
      "Fit ARIMA: order=(2, 1, 2) seasonal_order=(0, 1, 2, 12); AIC=2135.785, BIC=2164.271, Fit time=5.152 seconds\n",
      "Fit ARIMA: order=(2, 1, 2) seasonal_order=(2, 1, 2, 12); AIC=nan, BIC=nan, Fit time=nan seconds\n",
      "Fit ARIMA: order=(2, 1, 2) seasonal_order=(1, 1, 1, 12); AIC=2115.725, BIC=2144.211, Fit time=3.120 seconds\n",
      "Fit ARIMA: order=(2, 1, 2) seasonal_order=(0, 1, 1, 12); AIC=2137.480, BIC=2162.405, Fit time=2.544 seconds\n",
      "Fit ARIMA: order=(3, 1, 2) seasonal_order=(1, 1, 2, 12); AIC=nan, BIC=nan, Fit time=0.890 seconds\n",
      "Total fit time: 66.323 seconds\n"
     ]
    }
   ],
   "source": [
    "import numpy as np\n",
    "season_data = []\n",
    "arr_list = np.zeros(260)\n",
    "for s in range(10):\n",
    "        #iterate over biweek per season\n",
    "        for t in range(26):\n",
    "            season_effect = np.random.choice([10,10,10], p = [0.2, 0.6, 0.2])\n",
    "            e_y = season_effect*np.cos(10*(t+np.pi)/(13*np.pi)) + season_effect\n",
    "            arr_list[(s-1)*26+t] = np.random.poisson(10*e_y) \n",
    "            season_data.append(arr_list[(s-1)*26+t])\n",
    "    # plot simulated data to make sure it looks like ID        \n",
    "ts = arr_list\n",
    "from pyramid.arima import auto_arima\n",
    "stepwise_model = auto_arima(ts, start_p=1, start_q=1,\n",
    "                           max_p=3, max_q=3, m=12,\n",
    "                           start_P=0, seasonal=True,\n",
    "                           d=1, D=1, trace=True,\n",
    "                           error_action='ignore',  \n",
    "                           suppress_warnings=True)\n",
    "future_forecast = stepwise_model.predict(n_periods=26)\n",
    "print (future_forecast)"
   ]
  },
  {
   "cell_type": "code",
   "execution_count": 301,
   "metadata": {
    "collapsed": true
   },
   "outputs": [],
   "source": [
    "import emcee\n",
    "from scipy.stats import binom\n",
    "from scipy.stats import norm\n",
    "import pymc3 as pm\n",
    "\n",
    "def bayes_estimate(p_vec,process,process_var,partially_observed,scale_factor):\n",
    "    basic_model = pm.Model()\n",
    "\n",
    "    with basic_model:\n",
    "\n",
    "        # Priors for unknown model parameters\n",
    "        n_t_inf = pm.Normal('n_t_inf', mu=process, sd=np.sqrt(process_var)/scale_factor)\n",
    "\n",
    "\n",
    "        # Likelihood (sampling distribution) of observations\n",
    "        Y_obs = pm.Binomial('Y_obs', n=n_t_inf, p=sum(p_vec), observed=sum(partially_observed))\n",
    "    map_estimate = pm.find_MAP(model=basic_model)\n",
    "    return map_estimate['n_t_inf']"
   ]
  },
  {
   "cell_type": "code",
   "execution_count": 303,
   "metadata": {
    "scrolled": false
   },
   "outputs": [
    {
     "name": "stdout",
     "output_type": "stream",
     "text": [
      "260\n"
     ]
    },
    {
     "data": {
      "image/png": "[encoded data removed]",
      "text/plain": [
       "<matplotlib.figure.Figure at 0x1963dcbd0>"
      ]
     },
     "metadata": {},
     "output_type": "display_data"
    },
    {
     "name": "stdout",
     "output_type": "stream",
     "text": [
      "Starting forward filtering...\n",
      "Forward fitering completed.\n",
      "Starting backward smoothing...\n",
      "Backward smoothing completed.\n"
     ]
    },
    {
     "name": "stderr",
     "output_type": "stream",
     "text": [
      "logp = -inf, ||grad|| = 0.66147: 100%|██████████| 5/5 [00:00<00:00, 1211.88it/s]\n",
      "logp = -441.27, ||grad|| = 4.7609: 100%|██████████| 10/10 [00:00<00:00, 1841.30it/s]\n",
      "logp = -224.96, ||grad|| = 4.0772: 100%|██████████| 11/11 [00:00<00:00, 1256.26it/s]\n",
      "logp = -75.104, ||grad|| = 2.8341: 100%|██████████| 10/10 [00:00<00:00, 1227.73it/s]\n",
      "logp = -67.117, ||grad|| = 2.6323: 100%|██████████| 10/10 [00:00<00:00, 1684.39it/s]\n",
      "logp = -32.896, ||grad|| = 2.033: 100%|██████████| 9/9 [00:00<00:00, 1464.15it/s]\n",
      "logp = -22.994, ||grad|| = 0.63668: 100%|██████████| 11/11 [00:00<00:00, 1035.10it/s]\n",
      "logp = -13.035, ||grad|| = 0.24292: 100%|██████████| 9/9 [00:00<00:00, 1145.05it/s]\n",
      "logp = -11.322, ||grad|| = 0.092297: 100%|██████████| 9/9 [00:00<00:00, 869.23it/s]\n",
      "logp = -9.9417, ||grad|| = 0.035224: 100%|██████████| 9/9 [00:00<00:00, 2144.94it/s]\n"
     ]
    },
    {
     "name": "stdout",
     "output_type": "stream",
     "text": [
      "model 2\n",
      "[216.82 -72.85 131.51 171.2  183.53 204.72 203.91 218.01 205.4  185.93]\n",
      "model 1\n",
      "[ 95.    97.44 144.78 185.74 195.11 216.63 204.17 217.88 201.34 156.41]\n",
      "truth\n",
      "[ 95.  97. 145. 185. 195. 218. 209. 210. 214. 189.]\n",
      "process model\n",
      "[195.81869823396534, 202.9755913778868, 210.48745327820774, 218.37188973335017, 226.64737975700507, 235.33331888800595, 244.45006464829285, 254.0189842555077, 264.0625047020469, 274.60416531794283]\n",
      "------\n",
      "428.1593666666667\n",
      "49.181666666666565\n",
      "Starting forward filtering...\n",
      "Forward fitering completed.\n",
      "Starting backward smoothing...\n",
      "Backward smoothing completed.\n"
     ]
    },
    {
     "name": "stderr",
     "output_type": "stream",
     "text": [
      "logp = -inf, ||grad|| = 0.66147: 100%|██████████| 5/5 [00:00<00:00, 1318.63it/s]\n",
      "logp = -447.37, ||grad|| = 4.8186: 100%|██████████| 10/10 [00:00<00:00, 2150.59it/s]\n",
      "logp = -227.47, ||grad|| = 4.1154: 100%|██████████| 11/11 [00:00<00:00, 2243.05it/s]\n",
      "logp = -75.425, ||grad|| = 2.844: 100%|██████████| 10/10 [00:00<00:00, 973.04it/s]\n",
      "logp = -66.967, ||grad|| = 2.6275: 100%|██████████| 10/10 [00:00<00:00, 2219.33it/s]\n",
      "logp = -32.807, ||grad|| = 2.0283: 100%|██████████| 9/9 [00:00<00:00, 1534.25it/s]\n",
      "logp = -22.745, ||grad|| = 0.63049: 100%|██████████| 11/11 [00:00<00:00, 2318.23it/s]\n",
      "logp = -13.006, ||grad|| = 0.24211: 100%|██████████| 9/9 [00:00<00:00, 1623.95it/s]\n",
      "logp = -11.287, ||grad|| = 0.091738: 100%|██████████| 9/9 [00:00<00:00, 1981.14it/s]\n",
      "logp = -9.7413, ||grad|| = 0.033506: 100%|██████████| 9/9 [00:00<00:00, 1668.82it/s]\n"
     ]
    },
    {
     "name": "stdout",
     "output_type": "stream",
     "text": [
      "model 2\n",
      "[216.82 -76.19 131.46 171.03 183.61 204.79 204.15 218.1  205.67 189.29]\n",
      "model 1\n",
      "[ 95.    97.41 144.75 185.72 195.12 216.64 204.41 217.97 201.62 159.72]\n",
      "truth\n",
      "[ 95.  97. 145. 185. 195. 218. 209. 210. 214. 189.]\n",
      "process model\n",
      "[195.81869823396534, 202.9755913778868, 210.48745327820774, 218.37188973335017, 226.64737975700507, 235.33331888800595, 244.45006464829285, 254.0189842555077, 264.0625047020469, 274.60416531794283]\n",
      "------\n",
      "358.03456666666665\n",
      "45.027666666666704\n",
      "Starting forward filtering...\n",
      "Forward fitering completed.\n",
      "Starting backward smoothing...\n",
      "Backward smoothing completed.\n"
     ]
    },
    {
     "name": "stderr",
     "output_type": "stream",
     "text": [
      "logp = -inf, ||grad|| = 0.66147: 100%|██████████| 5/5 [00:00<00:00, 1385.81it/s]\n",
      "logp = -445.22, ||grad|| = 4.7983: 100%|██████████| 10/10 [00:00<00:00, 1733.97it/s]\n",
      "logp = -225.83, ||grad|| = 4.0904: 100%|██████████| 11/11 [00:00<00:00, 2657.07it/s]\n",
      "logp = -75.941, ||grad|| = 2.8598: 100%|██████████| 10/10 [00:00<00:00, 1633.42it/s]\n",
      "logp = -68.073, ||grad|| = 2.6625: 100%|██████████| 10/10 [00:00<00:00, 2120.48it/s]\n",
      "logp = -33.179, ||grad|| = 2.0481: 100%|██████████| 9/9 [00:00<00:00, 1898.73it/s]\n",
      "logp = -23.133, ||grad|| = 0.64012: 100%|██████████| 11/11 [00:00<00:00, 1956.55it/s]\n",
      "logp = -13.225, ||grad|| = 0.24815: 100%|██████████| 9/9 [00:00<00:00, 1520.84it/s]\n",
      "logp = -11.338, ||grad|| = 0.092546: 100%|██████████| 9/9 [00:00<00:00, 1835.58it/s]\n",
      "logp = -9.8171, ||grad|| = 0.034161: 100%|██████████| 9/9 [00:00<00:00, 1713.98it/s]\n"
     ]
    },
    {
     "name": "stdout",
     "output_type": "stream",
     "text": [
      "model 2\n",
      "[216.82 -75.02 131.5  170.77 183.04 204.49 203.78 217.42 205.28 188.  ]\n",
      "model 1\n",
      "[ 95.    97.42 144.77 185.69 195.05 216.59 204.04 217.28 201.22 158.44]\n",
      "truth\n",
      "[ 95.  97. 145. 185. 195. 218. 209. 210. 214. 189.]\n",
      "process model\n",
      "[195.81869823396534, 202.9755913778868, 210.48745327820774, 218.37188973335017, 226.64737975700507, 235.33331888800595, 244.45006464829285, 254.0189842555077, 264.0625047020469, 274.60416531794283]\n",
      "------\n",
      "383.4134666666667\n",
      "44.03159999999993\n",
      "Starting forward filtering...\n",
      "Forward fitering completed.\n",
      "Starting backward smoothing...\n",
      "Backward smoothing completed.\n"
     ]
    },
    {
     "name": "stderr",
     "output_type": "stream",
     "text": [
      "logp = -inf, ||grad|| = 0.66147: 100%|██████████| 5/5 [00:00<00:00, 1231.52it/s]\n",
      "logp = -438.89, ||grad|| = 4.7383: 100%|██████████| 10/10 [00:00<00:00, 2334.32it/s]\n",
      "INFO (theano.gof.compilelock): Refreshing lock /Users/gcgibson/.theano/compiledir_Darwin-16.7.0-x86_64-i386-64bit-i386-2.7.13-64/lock_dir/lock\n",
      "INFO:theano.gof.compilelock:Refreshing lock /Users/gcgibson/.theano/compiledir_Darwin-16.7.0-x86_64-i386-64bit-i386-2.7.13-64/lock_dir/lock\n"
     ]
    },
    {
     "ename": "AssertionError",
     "evalue": "('The following error happened while compiling the node', Elemwise{Composite{((i0 * (i1 + i2)) + Switch(Composite{Identity(LE(i0, i1))}(i3, i2), psi((i4 + i2)), i5) + Switch(Composite{Identity(LE(i0, i1))}(i3, i2), (-psi((i6 + i2))), i5) + Switch(Composite{Identity(LE(i0, i1))}(i3, i2), i7, i5))}}(TensorConstant{-0.0001625..9277172432}, TensorConstant{-210.48745327820774}, n_t_inf, TensorConstant{144}, TensorConstant{1.0}, TensorConstant{0}, TensorConstant{-143.0}, TensorConstant{-5.197046836141741}), '\\n')",
     "output_type": "error",
     "traceback": [
      "\u001b[0;31m---------------------------------------------------------------------------\u001b[0m",
      "\u001b[0;31mAssertionError\u001b[0m                            Traceback (most recent call last)",
      "\u001b[0;32m<ipython-input-303-d99da7f421e6>\u001b[0m in \u001b[0;36m<module>\u001b[0;34m()\u001b[0m\n\u001b[1;32m     95\u001b[0m \u001b[0;34m\u001b[0m\u001b[0m\n\u001b[1;32m     96\u001b[0m     \u001b[0;32mfor\u001b[0m \u001b[0mi\u001b[0m \u001b[0;32min\u001b[0m \u001b[0mrange\u001b[0m\u001b[0;34m(\u001b[0m\u001b[0mlen\u001b[0m\u001b[0;34m(\u001b[0m\u001b[0mdata_to_be_delayed\u001b[0m\u001b[0;34m)\u001b[0m\u001b[0;34m)\u001b[0m\u001b[0;34m:\u001b[0m\u001b[0;34m\u001b[0m\u001b[0m\n\u001b[0;32m---> 97\u001b[0;31m         \u001b[0mtmp\u001b[0m \u001b[0;34m=\u001b[0m \u001b[0mbayes_estimate\u001b[0m\u001b[0;34m(\u001b[0m\u001b[0mp_vec_noise\u001b[0m\u001b[0;34m[\u001b[0m\u001b[0;34m:\u001b[0m\u001b[0mcount\u001b[0m\u001b[0;34m]\u001b[0m\u001b[0;34m,\u001b[0m\u001b[0mprocess_model_forecast\u001b[0m\u001b[0;34m[\u001b[0m\u001b[0mi\u001b[0m\u001b[0;34m]\u001b[0m\u001b[0;34m,\u001b[0m\u001b[0mpredictVar\u001b[0m\u001b[0;34m[\u001b[0m\u001b[0mi\u001b[0m\u001b[0;34m]\u001b[0m\u001b[0;34m,\u001b[0m\u001b[0mdelayed_data\u001b[0m\u001b[0;34m[\u001b[0m\u001b[0mi\u001b[0m\u001b[0;34m]\u001b[0m\u001b[0;34m,\u001b[0m\u001b[0;36m.5\u001b[0m\u001b[0;34m)\u001b[0m\u001b[0;34m\u001b[0m\u001b[0m\n\u001b[0m\u001b[1;32m     98\u001b[0m         \u001b[0mmodel_2_delay\u001b[0m\u001b[0;34m.\u001b[0m\u001b[0mappend\u001b[0m\u001b[0;34m(\u001b[0m\u001b[0mnp\u001b[0m\u001b[0;34m.\u001b[0m\u001b[0mround\u001b[0m\u001b[0;34m(\u001b[0m\u001b[0mtmp\u001b[0m\u001b[0;34m,\u001b[0m\u001b[0;36m2\u001b[0m\u001b[0;34m)\u001b[0m\u001b[0;34m)\u001b[0m\u001b[0;34m\u001b[0m\u001b[0m\n\u001b[1;32m     99\u001b[0m         \u001b[0mcount\u001b[0m \u001b[0;34m-=\u001b[0m \u001b[0;36m1\u001b[0m\u001b[0;34m\u001b[0m\u001b[0m\n",
      "\u001b[0;32m<ipython-input-301-a0a1497bac6d>\u001b[0m in \u001b[0;36mbayes_estimate\u001b[0;34m(p_vec, process, process_var, partially_observed, scale_factor)\u001b[0m\n\u001b[1;32m     15\u001b[0m         \u001b[0;31m# Likelihood (sampling distribution) of observations\u001b[0m\u001b[0;34m\u001b[0m\u001b[0;34m\u001b[0m\u001b[0m\n\u001b[1;32m     16\u001b[0m         \u001b[0mY_obs\u001b[0m \u001b[0;34m=\u001b[0m \u001b[0mpm\u001b[0m\u001b[0;34m.\u001b[0m\u001b[0mBinomial\u001b[0m\u001b[0;34m(\u001b[0m\u001b[0;34m'Y_obs'\u001b[0m\u001b[0;34m,\u001b[0m \u001b[0mn\u001b[0m\u001b[0;34m=\u001b[0m\u001b[0mn_t_inf\u001b[0m\u001b[0;34m,\u001b[0m \u001b[0mp\u001b[0m\u001b[0;34m=\u001b[0m\u001b[0msum\u001b[0m\u001b[0;34m(\u001b[0m\u001b[0mp_vec\u001b[0m\u001b[0;34m)\u001b[0m\u001b[0;34m,\u001b[0m \u001b[0mobserved\u001b[0m\u001b[0;34m=\u001b[0m\u001b[0msum\u001b[0m\u001b[0;34m(\u001b[0m\u001b[0mpartially_observed\u001b[0m\u001b[0;34m)\u001b[0m\u001b[0;34m)\u001b[0m\u001b[0;34m\u001b[0m\u001b[0m\n\u001b[0;32m---> 17\u001b[0;31m     \u001b[0mmap_estimate\u001b[0m \u001b[0;34m=\u001b[0m \u001b[0mpm\u001b[0m\u001b[0;34m.\u001b[0m\u001b[0mfind_MAP\u001b[0m\u001b[0;34m(\u001b[0m\u001b[0mmodel\u001b[0m\u001b[0;34m=\u001b[0m\u001b[0mbasic_model\u001b[0m\u001b[0;34m)\u001b[0m\u001b[0;34m\u001b[0m\u001b[0m\n\u001b[0m\u001b[1;32m     18\u001b[0m     \u001b[0;32mreturn\u001b[0m \u001b[0mmap_estimate\u001b[0m\u001b[0;34m[\u001b[0m\u001b[0;34m'n_t_inf'\u001b[0m\u001b[0;34m]\u001b[0m\u001b[0;34m\u001b[0m\u001b[0m\n",
      "\u001b[0;32m/Users/gcgibson/anaconda/lib/python2.7/site-packages/pymc3/tuning/starting.pyc\u001b[0m in \u001b[0;36mfind_MAP\u001b[0;34m(start, vars, method, return_raw, include_transformed, progressbar, maxeval, model, *args, **kwargs)\u001b[0m\n\u001b[1;32m     74\u001b[0m \u001b[0;34m\u001b[0m\u001b[0m\n\u001b[1;32m     75\u001b[0m     \u001b[0;32mtry\u001b[0m\u001b[0;34m:\u001b[0m\u001b[0;34m\u001b[0m\u001b[0m\n\u001b[0;32m---> 76\u001b[0;31m         \u001b[0mdlogp_func\u001b[0m \u001b[0;34m=\u001b[0m \u001b[0mbij\u001b[0m\u001b[0;34m.\u001b[0m\u001b[0mmapf\u001b[0m\u001b[0;34m(\u001b[0m\u001b[0mmodel\u001b[0m\u001b[0;34m.\u001b[0m\u001b[0mfastdlogp_nojac\u001b[0m\u001b[0;34m(\u001b[0m\u001b[0mvars\u001b[0m\u001b[0;34m)\u001b[0m\u001b[0;34m)\u001b[0m\u001b[0;34m\u001b[0m\u001b[0m\n\u001b[0m\u001b[1;32m     77\u001b[0m         \u001b[0mcompute_gradient\u001b[0m \u001b[0;34m=\u001b[0m \u001b[0mTrue\u001b[0m\u001b[0;34m\u001b[0m\u001b[0m\n\u001b[1;32m     78\u001b[0m     \u001b[0;32mexcept\u001b[0m \u001b[0mAttributeError\u001b[0m\u001b[0;34m:\u001b[0m\u001b[0;34m\u001b[0m\u001b[0m\n",
      "\u001b[0;32m/Users/gcgibson/anaconda/lib/python2.7/site-packages/pymc3/model.pyc\u001b[0m in \u001b[0;36mfastdlogp_nojac\u001b[0;34m(self, vars)\u001b[0m\n\u001b[1;32m    204\u001b[0m     \u001b[0;32mdef\u001b[0m \u001b[0mfastdlogp_nojac\u001b[0m\u001b[0;34m(\u001b[0m\u001b[0mself\u001b[0m\u001b[0;34m,\u001b[0m \u001b[0mvars\u001b[0m\u001b[0;34m=\u001b[0m\u001b[0mNone\u001b[0m\u001b[0;34m)\u001b[0m\u001b[0;34m:\u001b[0m\u001b[0;34m\u001b[0m\u001b[0m\n\u001b[1;32m    205\u001b[0m         \u001b[0;34m\"\"\"Compiled log density gradient function, without jacobian terms.\"\"\"\u001b[0m\u001b[0;34m\u001b[0m\u001b[0m\n\u001b[0;32m--> 206\u001b[0;31m         \u001b[0;32mreturn\u001b[0m \u001b[0mself\u001b[0m\u001b[0;34m.\u001b[0m\u001b[0mmodel\u001b[0m\u001b[0;34m.\u001b[0m\u001b[0mfastfn\u001b[0m\u001b[0;34m(\u001b[0m\u001b[0mgradient\u001b[0m\u001b[0;34m(\u001b[0m\u001b[0mself\u001b[0m\u001b[0;34m.\u001b[0m\u001b[0mlogp_nojact\u001b[0m\u001b[0;34m,\u001b[0m \u001b[0mvars\u001b[0m\u001b[0;34m)\u001b[0m\u001b[0;34m)\u001b[0m\u001b[0;34m\u001b[0m\u001b[0m\n\u001b[0m\u001b[1;32m    207\u001b[0m \u001b[0;34m\u001b[0m\u001b[0m\n\u001b[1;32m    208\u001b[0m     \u001b[0;32mdef\u001b[0m \u001b[0mfastd2logp_nojac\u001b[0m\u001b[0;34m(\u001b[0m\u001b[0mself\u001b[0m\u001b[0;34m,\u001b[0m \u001b[0mvars\u001b[0m\u001b[0;34m=\u001b[0m\u001b[0mNone\u001b[0m\u001b[0;34m)\u001b[0m\u001b[0;34m:\u001b[0m\u001b[0;34m\u001b[0m\u001b[0m\n",
      "\u001b[0;32m/Users/gcgibson/anaconda/lib/python2.7/site-packages/pymc3/model.pyc\u001b[0m in \u001b[0;36mfastfn\u001b[0;34m(self, outs, mode, *args, **kwargs)\u001b[0m\n\u001b[1;32m    881\u001b[0m         \u001b[0mCompiled\u001b[0m \u001b[0mTheano\u001b[0m \u001b[0mfunction\u001b[0m \u001b[0;32mas\u001b[0m \u001b[0mpoint\u001b[0m \u001b[0mfunction\u001b[0m\u001b[0;34m.\u001b[0m\u001b[0;34m\u001b[0m\u001b[0m\n\u001b[1;32m    882\u001b[0m         \"\"\"\n\u001b[0;32m--> 883\u001b[0;31m         \u001b[0mf\u001b[0m \u001b[0;34m=\u001b[0m \u001b[0mself\u001b[0m\u001b[0;34m.\u001b[0m\u001b[0mmakefn\u001b[0m\u001b[0;34m(\u001b[0m\u001b[0mouts\u001b[0m\u001b[0;34m,\u001b[0m \u001b[0mmode\u001b[0m\u001b[0;34m,\u001b[0m \u001b[0;34m*\u001b[0m\u001b[0margs\u001b[0m\u001b[0;34m,\u001b[0m \u001b[0;34m**\u001b[0m\u001b[0mkwargs\u001b[0m\u001b[0;34m)\u001b[0m\u001b[0;34m\u001b[0m\u001b[0m\n\u001b[0m\u001b[1;32m    884\u001b[0m         \u001b[0;32mreturn\u001b[0m \u001b[0mFastPointFunc\u001b[0m\u001b[0;34m(\u001b[0m\u001b[0mf\u001b[0m\u001b[0;34m)\u001b[0m\u001b[0;34m\u001b[0m\u001b[0m\n\u001b[1;32m    885\u001b[0m \u001b[0;34m\u001b[0m\u001b[0m\n",
      "\u001b[0;32m/Users/gcgibson/anaconda/lib/python2.7/site-packages/pymc3/model.pyc\u001b[0m in \u001b[0;36mmakefn\u001b[0;34m(self, outs, mode, *args, **kwargs)\u001b[0m\n\u001b[1;32m    851\u001b[0m                                    \u001b[0mon_unused_input\u001b[0m\u001b[0;34m=\u001b[0m\u001b[0;34m'ignore'\u001b[0m\u001b[0;34m,\u001b[0m\u001b[0;34m\u001b[0m\u001b[0m\n\u001b[1;32m    852\u001b[0m                                    \u001b[0maccept_inplace\u001b[0m\u001b[0;34m=\u001b[0m\u001b[0mTrue\u001b[0m\u001b[0;34m,\u001b[0m\u001b[0;34m\u001b[0m\u001b[0m\n\u001b[0;32m--> 853\u001b[0;31m                                    mode=mode, *args, **kwargs)\n\u001b[0m\u001b[1;32m    854\u001b[0m \u001b[0;34m\u001b[0m\u001b[0m\n\u001b[1;32m    855\u001b[0m     \u001b[0;32mdef\u001b[0m \u001b[0mfn\u001b[0m\u001b[0;34m(\u001b[0m\u001b[0mself\u001b[0m\u001b[0;34m,\u001b[0m \u001b[0mouts\u001b[0m\u001b[0;34m,\u001b[0m \u001b[0mmode\u001b[0m\u001b[0;34m=\u001b[0m\u001b[0mNone\u001b[0m\u001b[0;34m,\u001b[0m \u001b[0;34m*\u001b[0m\u001b[0margs\u001b[0m\u001b[0;34m,\u001b[0m \u001b[0;34m**\u001b[0m\u001b[0mkwargs\u001b[0m\u001b[0;34m)\u001b[0m\u001b[0;34m:\u001b[0m\u001b[0;34m\u001b[0m\u001b[0m\n",
      "\u001b[0;32m/Users/gcgibson/anaconda/lib/python2.7/site-packages/theano/compile/function.pyc\u001b[0m in \u001b[0;36mfunction\u001b[0;34m(inputs, outputs, mode, updates, givens, no_default_updates, accept_inplace, name, rebuild_strict, allow_input_downcast, profile, on_unused_input)\u001b[0m\n\u001b[1;32m    324\u001b[0m                    \u001b[0mon_unused_input\u001b[0m\u001b[0;34m=\u001b[0m\u001b[0mon_unused_input\u001b[0m\u001b[0;34m,\u001b[0m\u001b[0;34m\u001b[0m\u001b[0m\n\u001b[1;32m    325\u001b[0m                    \u001b[0mprofile\u001b[0m\u001b[0;34m=\u001b[0m\u001b[0mprofile\u001b[0m\u001b[0;34m,\u001b[0m\u001b[0;34m\u001b[0m\u001b[0m\n\u001b[0;32m--> 326\u001b[0;31m                    output_keys=output_keys)\n\u001b[0m\u001b[1;32m    327\u001b[0m     \u001b[0;31m# We need to add the flag check_aliased inputs if we have any mutable or\u001b[0m\u001b[0;34m\u001b[0m\u001b[0;34m\u001b[0m\u001b[0m\n\u001b[1;32m    328\u001b[0m     \u001b[0;31m# borrowed used defined inputs\u001b[0m\u001b[0;34m\u001b[0m\u001b[0;34m\u001b[0m\u001b[0m\n",
      "\u001b[0;32m/Users/gcgibson/anaconda/lib/python2.7/site-packages/theano/compile/pfunc.pyc\u001b[0m in \u001b[0;36mpfunc\u001b[0;34m(params, outputs, mode, updates, givens, no_default_updates, accept_inplace, name, rebuild_strict, allow_input_downcast, profile, on_unused_input, output_keys)\u001b[0m\n\u001b[1;32m    484\u001b[0m                          \u001b[0maccept_inplace\u001b[0m\u001b[0;34m=\u001b[0m\u001b[0maccept_inplace\u001b[0m\u001b[0;34m,\u001b[0m \u001b[0mname\u001b[0m\u001b[0;34m=\u001b[0m\u001b[0mname\u001b[0m\u001b[0;34m,\u001b[0m\u001b[0;34m\u001b[0m\u001b[0m\n\u001b[1;32m    485\u001b[0m                          \u001b[0mprofile\u001b[0m\u001b[0;34m=\u001b[0m\u001b[0mprofile\u001b[0m\u001b[0;34m,\u001b[0m \u001b[0mon_unused_input\u001b[0m\u001b[0;34m=\u001b[0m\u001b[0mon_unused_input\u001b[0m\u001b[0;34m,\u001b[0m\u001b[0;34m\u001b[0m\u001b[0m\n\u001b[0;32m--> 486\u001b[0;31m                          output_keys=output_keys)\n\u001b[0m\u001b[1;32m    487\u001b[0m \u001b[0;34m\u001b[0m\u001b[0m\n\u001b[1;32m    488\u001b[0m \u001b[0;34m\u001b[0m\u001b[0m\n",
      "\u001b[0;32m/Users/gcgibson/anaconda/lib/python2.7/site-packages/theano/compile/function_module.pyc\u001b[0m in \u001b[0;36morig_function\u001b[0;34m(inputs, outputs, mode, accept_inplace, name, profile, on_unused_input, output_keys)\u001b[0m\n\u001b[1;32m   1793\u001b[0m                    \u001b[0mon_unused_input\u001b[0m\u001b[0;34m=\u001b[0m\u001b[0mon_unused_input\u001b[0m\u001b[0;34m,\u001b[0m\u001b[0;34m\u001b[0m\u001b[0m\n\u001b[1;32m   1794\u001b[0m                    \u001b[0moutput_keys\u001b[0m\u001b[0;34m=\u001b[0m\u001b[0moutput_keys\u001b[0m\u001b[0;34m)\u001b[0m\u001b[0;34m.\u001b[0m\u001b[0mcreate\u001b[0m\u001b[0;34m(\u001b[0m\u001b[0;34m\u001b[0m\u001b[0m\n\u001b[0;32m-> 1795\u001b[0;31m             defaults)\n\u001b[0m\u001b[1;32m   1796\u001b[0m \u001b[0;34m\u001b[0m\u001b[0m\n\u001b[1;32m   1797\u001b[0m     \u001b[0mt2\u001b[0m \u001b[0;34m=\u001b[0m \u001b[0mtime\u001b[0m\u001b[0;34m.\u001b[0m\u001b[0mtime\u001b[0m\u001b[0;34m(\u001b[0m\u001b[0;34m)\u001b[0m\u001b[0;34m\u001b[0m\u001b[0m\n",
      "\u001b[0;32m/Users/gcgibson/anaconda/lib/python2.7/site-packages/theano/compile/function_module.pyc\u001b[0m in \u001b[0;36mcreate\u001b[0;34m(self, input_storage, trustme, storage_map)\u001b[0m\n\u001b[1;32m   1659\u001b[0m             \u001b[0mtheano\u001b[0m\u001b[0;34m.\u001b[0m\u001b[0mconfig\u001b[0m\u001b[0;34m.\u001b[0m\u001b[0mtraceback\u001b[0m\u001b[0;34m.\u001b[0m\u001b[0mlimit\u001b[0m \u001b[0;34m=\u001b[0m \u001b[0mtheano\u001b[0m\u001b[0;34m.\u001b[0m\u001b[0mconfig\u001b[0m\u001b[0;34m.\u001b[0m\u001b[0mtraceback\u001b[0m\u001b[0;34m.\u001b[0m\u001b[0mcompile_limit\u001b[0m\u001b[0;34m\u001b[0m\u001b[0m\n\u001b[1;32m   1660\u001b[0m             _fn, _i, _o = self.linker.make_thunk(\n\u001b[0;32m-> 1661\u001b[0;31m                 input_storage=input_storage_lists, storage_map=storage_map)\n\u001b[0m\u001b[1;32m   1662\u001b[0m         \u001b[0;32mfinally\u001b[0m\u001b[0;34m:\u001b[0m\u001b[0;34m\u001b[0m\u001b[0m\n\u001b[1;32m   1663\u001b[0m             \u001b[0mtheano\u001b[0m\u001b[0;34m.\u001b[0m\u001b[0mconfig\u001b[0m\u001b[0;34m.\u001b[0m\u001b[0mtraceback\u001b[0m\u001b[0;34m.\u001b[0m\u001b[0mlimit\u001b[0m \u001b[0;34m=\u001b[0m \u001b[0mlimit_orig\u001b[0m\u001b[0;34m\u001b[0m\u001b[0m\n",
      "\u001b[0;32m/Users/gcgibson/anaconda/lib/python2.7/site-packages/theano/gof/link.pyc\u001b[0m in \u001b[0;36mmake_thunk\u001b[0;34m(self, input_storage, output_storage, storage_map)\u001b[0m\n\u001b[1;32m    697\u001b[0m         return self.make_all(input_storage=input_storage,\n\u001b[1;32m    698\u001b[0m                              \u001b[0moutput_storage\u001b[0m\u001b[0;34m=\u001b[0m\u001b[0moutput_storage\u001b[0m\u001b[0;34m,\u001b[0m\u001b[0;34m\u001b[0m\u001b[0m\n\u001b[0;32m--> 699\u001b[0;31m                              storage_map=storage_map)[:3]\n\u001b[0m\u001b[1;32m    700\u001b[0m \u001b[0;34m\u001b[0m\u001b[0m\n\u001b[1;32m    701\u001b[0m     \u001b[0;32mdef\u001b[0m \u001b[0mmake_all\u001b[0m\u001b[0;34m(\u001b[0m\u001b[0mself\u001b[0m\u001b[0;34m,\u001b[0m \u001b[0minput_storage\u001b[0m\u001b[0;34m,\u001b[0m \u001b[0moutput_storage\u001b[0m\u001b[0;34m)\u001b[0m\u001b[0;34m:\u001b[0m\u001b[0;34m\u001b[0m\u001b[0m\n",
      "\u001b[0;32m/Users/gcgibson/anaconda/lib/python2.7/site-packages/theano/gof/vm.pyc\u001b[0m in \u001b[0;36mmake_all\u001b[0;34m(self, profiler, input_storage, output_storage, storage_map)\u001b[0m\n\u001b[1;32m   1045\u001b[0m                                                  \u001b[0mcompute_map\u001b[0m\u001b[0;34m,\u001b[0m\u001b[0;34m\u001b[0m\u001b[0m\n\u001b[1;32m   1046\u001b[0m                                                  \u001b[0mno_recycling\u001b[0m\u001b[0;34m,\u001b[0m\u001b[0;34m\u001b[0m\u001b[0m\n\u001b[0;32m-> 1047\u001b[0;31m                                                  impl=impl))\n\u001b[0m\u001b[1;32m   1048\u001b[0m                 \u001b[0mlinker_make_thunk_time\u001b[0m\u001b[0;34m[\u001b[0m\u001b[0mnode\u001b[0m\u001b[0;34m]\u001b[0m \u001b[0;34m=\u001b[0m \u001b[0mtime\u001b[0m\u001b[0;34m.\u001b[0m\u001b[0mtime\u001b[0m\u001b[0;34m(\u001b[0m\u001b[0;34m)\u001b[0m \u001b[0;34m-\u001b[0m \u001b[0mthunk_start\u001b[0m\u001b[0;34m\u001b[0m\u001b[0m\n\u001b[1;32m   1049\u001b[0m                 \u001b[0;32mif\u001b[0m \u001b[0;32mnot\u001b[0m \u001b[0mhasattr\u001b[0m\u001b[0;34m(\u001b[0m\u001b[0mthunks\u001b[0m\u001b[0;34m[\u001b[0m\u001b[0;34m-\u001b[0m\u001b[0;36m1\u001b[0m\u001b[0;34m]\u001b[0m\u001b[0;34m,\u001b[0m \u001b[0;34m'lazy'\u001b[0m\u001b[0;34m)\u001b[0m\u001b[0;34m:\u001b[0m\u001b[0;34m\u001b[0m\u001b[0m\n",
      "\u001b[0;32m/Users/gcgibson/anaconda/lib/python2.7/site-packages/theano/gof/op.pyc\u001b[0m in \u001b[0;36mmake_thunk\u001b[0;34m(self, node, storage_map, compute_map, no_recycling, impl)\u001b[0m\n\u001b[1;32m    933\u001b[0m             \u001b[0;32mtry\u001b[0m\u001b[0;34m:\u001b[0m\u001b[0;34m\u001b[0m\u001b[0m\n\u001b[1;32m    934\u001b[0m                 return self.make_c_thunk(node, storage_map, compute_map,\n\u001b[0;32m--> 935\u001b[0;31m                                          no_recycling)\n\u001b[0m\u001b[1;32m    936\u001b[0m             \u001b[0;32mexcept\u001b[0m \u001b[0;34m(\u001b[0m\u001b[0mNotImplementedError\u001b[0m\u001b[0;34m,\u001b[0m \u001b[0mutils\u001b[0m\u001b[0;34m.\u001b[0m\u001b[0mMethodNotDefined\u001b[0m\u001b[0;34m)\u001b[0m\u001b[0;34m:\u001b[0m\u001b[0;34m\u001b[0m\u001b[0m\n\u001b[1;32m    937\u001b[0m                 \u001b[0;31m# We requested the c code, so don't catch the error.\u001b[0m\u001b[0;34m\u001b[0m\u001b[0;34m\u001b[0m\u001b[0m\n",
      "\u001b[0;32m/Users/gcgibson/anaconda/lib/python2.7/site-packages/theano/gof/op.pyc\u001b[0m in \u001b[0;36mmake_c_thunk\u001b[0;34m(self, node, storage_map, compute_map, no_recycling)\u001b[0m\n\u001b[1;32m    837\u001b[0m         \u001b[0m_logger\u001b[0m\u001b[0;34m.\u001b[0m\u001b[0mdebug\u001b[0m\u001b[0;34m(\u001b[0m\u001b[0;34m'Trying CLinker.make_thunk'\u001b[0m\u001b[0;34m)\u001b[0m\u001b[0;34m\u001b[0m\u001b[0m\n\u001b[1;32m    838\u001b[0m         outputs = cl.make_thunk(input_storage=node_input_storage,\n\u001b[0;32m--> 839\u001b[0;31m                                 output_storage=node_output_storage)\n\u001b[0m\u001b[1;32m    840\u001b[0m         \u001b[0mfill_storage\u001b[0m\u001b[0;34m,\u001b[0m \u001b[0mnode_input_filters\u001b[0m\u001b[0;34m,\u001b[0m \u001b[0mnode_output_filters\u001b[0m \u001b[0;34m=\u001b[0m \u001b[0moutputs\u001b[0m\u001b[0;34m\u001b[0m\u001b[0m\n\u001b[1;32m    841\u001b[0m \u001b[0;34m\u001b[0m\u001b[0m\n",
      "\u001b[0;32m/Users/gcgibson/anaconda/lib/python2.7/site-packages/theano/gof/cc.pyc\u001b[0m in \u001b[0;36mmake_thunk\u001b[0;34m(self, input_storage, output_storage, storage_map, keep_lock)\u001b[0m\n\u001b[1;32m   1188\u001b[0m         cthunk, in_storage, out_storage, error_storage = self.__compile__(\n\u001b[1;32m   1189\u001b[0m             \u001b[0minput_storage\u001b[0m\u001b[0;34m,\u001b[0m \u001b[0moutput_storage\u001b[0m\u001b[0;34m,\u001b[0m \u001b[0mstorage_map\u001b[0m\u001b[0;34m,\u001b[0m\u001b[0;34m\u001b[0m\u001b[0m\n\u001b[0;32m-> 1190\u001b[0;31m             keep_lock=keep_lock)\n\u001b[0m\u001b[1;32m   1191\u001b[0m \u001b[0;34m\u001b[0m\u001b[0m\n\u001b[1;32m   1192\u001b[0m         \u001b[0mres\u001b[0m \u001b[0;34m=\u001b[0m \u001b[0m_CThunk\u001b[0m\u001b[0;34m(\u001b[0m\u001b[0mcthunk\u001b[0m\u001b[0;34m,\u001b[0m \u001b[0minit_tasks\u001b[0m\u001b[0;34m,\u001b[0m \u001b[0mtasks\u001b[0m\u001b[0;34m,\u001b[0m \u001b[0merror_storage\u001b[0m\u001b[0;34m)\u001b[0m\u001b[0;34m\u001b[0m\u001b[0m\n",
      "\u001b[0;32m/Users/gcgibson/anaconda/lib/python2.7/site-packages/theano/gof/cc.pyc\u001b[0m in \u001b[0;36m__compile__\u001b[0;34m(self, input_storage, output_storage, storage_map, keep_lock)\u001b[0m\n\u001b[1;32m   1129\u001b[0m                                     \u001b[0moutput_storage\u001b[0m\u001b[0;34m,\u001b[0m\u001b[0;34m\u001b[0m\u001b[0m\n\u001b[1;32m   1130\u001b[0m                                     \u001b[0mstorage_map\u001b[0m\u001b[0;34m,\u001b[0m\u001b[0;34m\u001b[0m\u001b[0m\n\u001b[0;32m-> 1131\u001b[0;31m                                     keep_lock=keep_lock)\n\u001b[0m\u001b[1;32m   1132\u001b[0m         return (thunk,\n\u001b[1;32m   1133\u001b[0m                 [link.Container(input, storage) for input, storage in\n",
      "\u001b[0;32m/Users/gcgibson/anaconda/lib/python2.7/site-packages/theano/gof/cc.pyc\u001b[0m in \u001b[0;36mcthunk_factory\u001b[0;34m(self, error_storage, in_storage, out_storage, storage_map, keep_lock)\u001b[0m\n\u001b[1;32m   1584\u001b[0m                 \u001b[0mnode\u001b[0m\u001b[0;34m.\u001b[0m\u001b[0mop\u001b[0m\u001b[0;34m.\u001b[0m\u001b[0mprepare_node\u001b[0m\u001b[0;34m(\u001b[0m\u001b[0mnode\u001b[0m\u001b[0;34m,\u001b[0m \u001b[0mstorage_map\u001b[0m\u001b[0;34m,\u001b[0m \u001b[0mNone\u001b[0m\u001b[0;34m,\u001b[0m \u001b[0;34m'c'\u001b[0m\u001b[0;34m)\u001b[0m\u001b[0;34m\u001b[0m\u001b[0m\n\u001b[1;32m   1585\u001b[0m             module = get_module_cache().module_from_key(\n\u001b[0;32m-> 1586\u001b[0;31m                 key=key, lnk=self, keep_lock=keep_lock)\n\u001b[0m\u001b[1;32m   1587\u001b[0m \u001b[0;34m\u001b[0m\u001b[0m\n\u001b[1;32m   1588\u001b[0m         \u001b[0mvars\u001b[0m \u001b[0;34m=\u001b[0m \u001b[0mself\u001b[0m\u001b[0;34m.\u001b[0m\u001b[0minputs\u001b[0m \u001b[0;34m+\u001b[0m \u001b[0mself\u001b[0m\u001b[0;34m.\u001b[0m\u001b[0moutputs\u001b[0m \u001b[0;34m+\u001b[0m \u001b[0mself\u001b[0m\u001b[0;34m.\u001b[0m\u001b[0morphans\u001b[0m\u001b[0;34m\u001b[0m\u001b[0m\n",
      "\u001b[0;32m/Users/gcgibson/anaconda/lib/python2.7/site-packages/theano/gof/cmodule.pyc\u001b[0m in \u001b[0;36mmodule_from_key\u001b[0;34m(self, key, lnk, keep_lock)\u001b[0m\n\u001b[1;32m   1123\u001b[0m         \u001b[0;31m# Is the source code already in the cache?\u001b[0m\u001b[0;34m\u001b[0m\u001b[0;34m\u001b[0m\u001b[0m\n\u001b[1;32m   1124\u001b[0m         \u001b[0mmodule_hash\u001b[0m \u001b[0;34m=\u001b[0m \u001b[0mget_module_hash\u001b[0m\u001b[0;34m(\u001b[0m\u001b[0msrc_code\u001b[0m\u001b[0;34m,\u001b[0m \u001b[0mkey\u001b[0m\u001b[0;34m)\u001b[0m\u001b[0;34m\u001b[0m\u001b[0m\n\u001b[0;32m-> 1125\u001b[0;31m         \u001b[0mmodule\u001b[0m \u001b[0;34m=\u001b[0m \u001b[0mself\u001b[0m\u001b[0;34m.\u001b[0m\u001b[0m_get_from_hash\u001b[0m\u001b[0;34m(\u001b[0m\u001b[0mmodule_hash\u001b[0m\u001b[0;34m,\u001b[0m \u001b[0mkey\u001b[0m\u001b[0;34m,\u001b[0m \u001b[0mkeep_lock\u001b[0m\u001b[0;34m=\u001b[0m\u001b[0mkeep_lock\u001b[0m\u001b[0;34m)\u001b[0m\u001b[0;34m\u001b[0m\u001b[0m\n\u001b[0m\u001b[1;32m   1126\u001b[0m         \u001b[0;32mif\u001b[0m \u001b[0mmodule\u001b[0m \u001b[0;32mis\u001b[0m \u001b[0;32mnot\u001b[0m \u001b[0mNone\u001b[0m\u001b[0;34m:\u001b[0m\u001b[0;34m\u001b[0m\u001b[0m\n\u001b[1;32m   1127\u001b[0m             \u001b[0;32mreturn\u001b[0m \u001b[0mmodule\u001b[0m\u001b[0;34m\u001b[0m\u001b[0m\n",
      "\u001b[0;32m/Users/gcgibson/anaconda/lib/python2.7/site-packages/theano/gof/cmodule.pyc\u001b[0m in \u001b[0;36m_get_from_hash\u001b[0;34m(self, module_hash, key, keep_lock)\u001b[0m\n\u001b[1;32m   1023\u001b[0m             \u001b[0;32mwith\u001b[0m \u001b[0mcompilelock\u001b[0m\u001b[0;34m.\u001b[0m\u001b[0mlock_ctx\u001b[0m\u001b[0;34m(\u001b[0m\u001b[0mkeep_lock\u001b[0m\u001b[0;34m=\u001b[0m\u001b[0mkeep_lock\u001b[0m\u001b[0;34m)\u001b[0m\u001b[0;34m:\u001b[0m\u001b[0;34m\u001b[0m\u001b[0m\n\u001b[1;32m   1024\u001b[0m                 \u001b[0;32mtry\u001b[0m\u001b[0;34m:\u001b[0m\u001b[0;34m\u001b[0m\u001b[0m\n\u001b[0;32m-> 1025\u001b[0;31m                     \u001b[0mkey_data\u001b[0m\u001b[0;34m.\u001b[0m\u001b[0madd_key\u001b[0m\u001b[0;34m(\u001b[0m\u001b[0mkey\u001b[0m\u001b[0;34m,\u001b[0m \u001b[0msave_pkl\u001b[0m\u001b[0;34m=\u001b[0m\u001b[0mbool\u001b[0m\u001b[0;34m(\u001b[0m\u001b[0mkey\u001b[0m\u001b[0;34m[\u001b[0m\u001b[0;36m0\u001b[0m\u001b[0;34m]\u001b[0m\u001b[0;34m)\u001b[0m\u001b[0;34m)\u001b[0m\u001b[0;34m\u001b[0m\u001b[0m\n\u001b[0m\u001b[1;32m   1026\u001b[0m                     \u001b[0mkey_broken\u001b[0m \u001b[0;34m=\u001b[0m \u001b[0mFalse\u001b[0m\u001b[0;34m\u001b[0m\u001b[0m\n\u001b[1;32m   1027\u001b[0m                 \u001b[0;32mexcept\u001b[0m \u001b[0mpickle\u001b[0m\u001b[0;34m.\u001b[0m\u001b[0mPicklingError\u001b[0m\u001b[0;34m:\u001b[0m\u001b[0;34m\u001b[0m\u001b[0m\n",
      "\u001b[0;32m/Users/gcgibson/anaconda/lib/python2.7/site-packages/theano/gof/cmodule.pyc\u001b[0m in \u001b[0;36madd_key\u001b[0;34m(self, key, save_pkl)\u001b[0m\n\u001b[1;32m    485\u001b[0m \u001b[0;34m\u001b[0m\u001b[0m\n\u001b[1;32m    486\u001b[0m         \"\"\"\n\u001b[0;32m--> 487\u001b[0;31m         \u001b[0;32massert\u001b[0m \u001b[0mkey\u001b[0m \u001b[0;32mnot\u001b[0m \u001b[0;32min\u001b[0m \u001b[0mself\u001b[0m\u001b[0;34m.\u001b[0m\u001b[0mkeys\u001b[0m\u001b[0;34m\u001b[0m\u001b[0m\n\u001b[0m\u001b[1;32m    488\u001b[0m         \u001b[0mself\u001b[0m\u001b[0;34m.\u001b[0m\u001b[0mkeys\u001b[0m\u001b[0;34m.\u001b[0m\u001b[0madd\u001b[0m\u001b[0;34m(\u001b[0m\u001b[0mkey\u001b[0m\u001b[0;34m)\u001b[0m\u001b[0;34m\u001b[0m\u001b[0m\n\u001b[1;32m    489\u001b[0m         \u001b[0;32mif\u001b[0m \u001b[0msave_pkl\u001b[0m\u001b[0;34m:\u001b[0m\u001b[0;34m\u001b[0m\u001b[0m\n",
      "\u001b[0;31mAssertionError\u001b[0m: ('The following error happened while compiling the node', Elemwise{Composite{((i0 * (i1 + i2)) + Switch(Composite{Identity(LE(i0, i1))}(i3, i2), psi((i4 + i2)), i5) + Switch(Composite{Identity(LE(i0, i1))}(i3, i2), (-psi((i6 + i2))), i5) + Switch(Composite{Identity(LE(i0, i1))}(i3, i2), i7, i5))}}(TensorConstant{-0.0001625..9277172432}, TensorConstant{-210.48745327820774}, n_t_inf, TensorConstant{144}, TensorConstant{1.0}, TensorConstant{0}, TensorConstant{-143.0}, TensorConstant{-5.197046836141741}), '\\n')"
     ]
    }
   ],
   "source": [
    "from scipy.special import expit\n",
    "import matplotlib.pyplot as plt\n",
    "np.random.seed(1)\n",
    "\n",
    "variance_level_results = []\n",
    "import sys\n",
    "from pydlm import dlm, trend, seasonality, dynamic, autoReg, longSeason\n",
    "from sklearn.metrics import mean_squared_error\n",
    "\n",
    "D = 10\n",
    "arr_list = np.zeros(260)\n",
    "        # iterate over season  \n",
    "for s in range(10):\n",
    "        #iterate over biweek per season\n",
    "        for t in range(26):\n",
    "            season_effect = np.random.choice([10,10,10], p = [0.2, 0.6, 0.2])\n",
    "            e_y = season_effect*np.cos(10*(t+np.pi)/(13*np.pi)) + season_effect\n",
    "            arr_list[(s-1)*26+t] = np.random.poisson(10*e_y)\n",
    "    # plot simulated data to make sure it looks like ID        \n",
    "ts =arr_list#[16:len(arr_list)-10]\n",
    "print (len(ts))\n",
    "plt.plot(ts)\n",
    "plt.show()\n",
    "\n",
    "p_vec = np.random.dirichlet(np.append([50,100,200,100,100],np.ones(D-5)),size=1)[0]\n",
    "\n",
    "\n",
    "sim_n_t_d = []\n",
    "for i in range(len(ts)):\n",
    "    tmp1 = np.random.multinomial(ts[i],p_vec,size=D).tolist()[0]\n",
    "    sim_n_t_d.append(tmp1 )\n",
    "sim_n_t_d = np.array(sim_n_t_d,dtype=np.float32)\n",
    "\n",
    "\n",
    "sim_n_t_d = sim_n_t_d.reshape((-1,26,D))\n",
    "\n",
    "rmse_vec = []\n",
    "#iterate over all 10 seasons doing a leave one season out\n",
    "for var in np.arange(10):\n",
    "    season_for_leave_out = var\n",
    "    train = [sim_n_t_d[x] for x in range(10) if x not in [season_for_leave_out]]\n",
    "    test = sim_n_t_d[season_for_leave_out]\n",
    "    \n",
    "    \n",
    "    train = np.array(train)\n",
    "    train_n_t_d = train.reshape((-1,D))\n",
    "    ts = train_n_t_d.sum(axis=1)\n",
    "    data_to_be_scaled_down  = train_n_t_d[len(ts)-D:]\n",
    "\n",
    "\n",
    "    \n",
    "    \n",
    "    delayed_data = []\n",
    "    count = D\n",
    "    for i in range(len(data_to_be_scaled_down)):\n",
    "        tmp = data_to_be_scaled_down[i][:count].tolist()\n",
    "        while len(tmp) <10:\n",
    "            tmp.append(0)\n",
    "        delayed_data.append(tmp)\n",
    "        count -=1 \n",
    "    \n",
    "    \n",
    "    training_data = np.append(train_n_t_d[:len(ts)-D],delayed_data,axis=0)\n",
    "\n",
    "    k = np.array(train_n_t_d).shape[1 ]\n",
    "    p_vec_noise = np.ones(k)\n",
    "\n",
    "    for i in range(len(ts)-D):\n",
    "        p_vec_noise += train_n_t_d[i]\n",
    "\n",
    "    p_vec_noise = p_vec_noise/np.sum(p_vec_noise)\n",
    "    #### training data is all set\n",
    "    \n",
    "    ###filling in ps model 1\n",
    "    model_1_delay = []\n",
    "    count = D\n",
    "    for i in range(len(delayed_data)):\n",
    "        delay_forecast = np.sum(delayed_data[i])/np.sum(p_vec_noise[:count])\n",
    "        model_1_delay.append(np.round(delay_forecast,2))\n",
    "        count -= 1\n",
    "    model_1_delay = np.array(model_1_delay)\n",
    "    \n",
    "    \n",
    "    \n",
    "    #### filling in ps model 2\n",
    "    \n",
    "    from pydlm import dlm, trend, seasonality, dynamic, autoReg, longSeason\n",
    "    myDLM = dlm(ts[len(ts)-D:])\n",
    "    myDLM = myDLM + seasonality(26, name='7day', w=1.0)\n",
    "    myDLM = myDLM + autoReg(degree=1, data=ts[len(ts)-D:], name='ar2', w=1.0)\n",
    "    myDLM.fit()\n",
    "    (process_model_forecast, predictVar) = myDLM.predictN(N=D, date=myDLM.n-1)\n",
    "    model_2_delay = []\n",
    "    count = D\n",
    "    \n",
    "    for i in range(len(data_to_be_delayed)):\n",
    "        tmp = bayes_estimate(p_vec_noise[:count],process_model_forecast[i],predictVar[i],delayed_data[i],.5)\n",
    "        model_2_delay.append(np.round(tmp,2))\n",
    "        count -= 1\n",
    "    model_2_delay = np.array(model_2_delay)\n",
    "   \n",
    "    print (\"model 2\")\n",
    "    print (model_2_delay)\n",
    "    print (\"model 1\")\n",
    "    print (model_1_delay)\n",
    "    print (\"truth\")\n",
    "    print (ts[len(ts)-D:])\n",
    "    print (\"process model\")\n",
    "    print (process_model_forecast)\n",
    "    ###filling in ps\n",
    "    print (\"------\")\n",
    "    cut_blah = 7\n",
    "    print (mean_squared_error(model_1_delay[cut_blah:],ts[len(ts)-D+cut_blah:]))\n",
    "    print (mean_squared_error(model_2_delay[cut_blah:],ts[len(ts)-D+cut_blah:]))\n",
    "    rmse_vec.append(mean_squared_error(model_2_delay[cut_blah:],ts[len(ts)-D+cut_blah:])/mean_squared_error(model_1_delay[cut_blah:],ts[len(ts)-D+cut_blah:]))\n",
    "    \n",
    "    \n",
    "        \n",
    "        \n",
    "        "
   ]
  },
  {
   "cell_type": "code",
   "execution_count": 293,
   "metadata": {},
   "outputs": [
    {
     "name": "stdout",
     "output_type": "stream",
     "text": [
      "0.93356434600064\n"
     ]
    }
   ],
   "source": [
    "print (np.mean(rmse_vec))\n"
   ]
  },
  {
   "cell_type": "code",
   "execution_count": null,
   "metadata": {
    "collapsed": true
   },
   "outputs": [],
   "source": []
  },
  {
   "cell_type": "code",
   "execution_count": null,
   "metadata": {
    "collapsed": true
   },
   "outputs": [],
   "source": []
  },
  {
   "cell_type": "code",
   "execution_count": null,
   "metadata": {
    "collapsed": true
   },
   "outputs": [],
   "source": []
  }
 ],
 "metadata": {
  "kernelspec": {
   "display_name": "Python 2",
   "language": "python",
   "name": "python2"
  },
  "language_info": {
   "codemirror_mode": {
    "name": "ipython",
    "version": 2
   },
   "file_extension": ".py",
   "mimetype": "text/x-python",
   "name": "python",
   "nbconvert_exporter": "python",
   "pygments_lexer": "ipython2",
   "version": "2.7.13"
  }
 },
 "nbformat": 4,
 "nbformat_minor": 2
}
