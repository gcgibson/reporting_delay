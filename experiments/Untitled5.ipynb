{
 "cells": [
  {
   "cell_type": "code",
   "execution_count": null,
   "metadata": {},
   "outputs": [],
   "source": [
    "import pymc3 as pm\n",
    "import numpy as np\n",
    "data = 10*np.ones(10)\n",
    "SEED = 1\n",
    "\n",
    "N = 1000\n",
    "\n",
    "W = np.array([0.35, 0.4, 0.25])\n",
    "\n",
    "MU = np.array([0., 2., 5.])\n",
    "SIGMA = np.array([0.5, 0.5, 1.])\n",
    "\n",
    "\n",
    "component = np.random.choice(MU.size, size=N, p=W)\n",
    "x = np.random.normal(MU[component], SIGMA[component], size=N)\n",
    "\n",
    "\n",
    "with pm.Model() as model:\n",
    "    lam1 = pm.Exponential('lam1', lam=1)\n",
    "    lam2 = pm.Exponential('lam2', lam=1)\n",
    "\n",
    "    pois1 = pm.Poisson.dist(mu=lam1)\n",
    "    pois2 = pm.Poisson.dist(mu=lam2)\n",
    "\n",
    "    w = pm.Dirichlet('w', a=np.array([1, 1]))\n",
    "\n",
    "    like = pm.Mixture('like', w=w, comp_dists = [pois1, pois2], observed=data)\n",
    "with model:\n",
    "    trace = pm.sample(5000, n_init=10000, tune=1000, random_seed=SEED)[1000:]"
   ]
  },
  {
   "cell_type": "code",
   "execution_count": null,
   "metadata": {
    "collapsed": true
   },
   "outputs": [],
   "source": []
  }
 ],
 "metadata": {
  "kernelspec": {
   "display_name": "Python 2",
   "language": "python",
   "name": "python2"
  },
  "language_info": {
   "codemirror_mode": {
    "name": "ipython",
    "version": 2
   },
   "file_extension": ".py",
   "mimetype": "text/x-python",
   "name": "python",
   "nbconvert_exporter": "python",
   "pygments_lexer": "ipython2",
   "version": "2.7.13"
  }
 },
 "nbformat": 4,
 "nbformat_minor": 2
}
