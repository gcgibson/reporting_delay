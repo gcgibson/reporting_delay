{
 "cells": [
  {
   "cell_type": "code",
   "execution_count": null,
   "metadata": {},
   "outputs": [],
   "source": [
    "import pymc3 as pm\n",
    "import numpy as np\n",
    "with pm.Model() as model:\n",
    "    lam1 = pm.Exponential('lam1', lam=1)\n",
    "    lam2 = pm.Exponential('lam2', lam=1)\n",
    "\n",
    "    pois1 = pm.Poisson.dist(mu=lam1)\n",
    "    pois2 = pm.Poisson.dist(mu=lam2)\n",
    "\n",
    "    w = pm.Dirichlet('w', a=np.array([1, 1]))\n",
    "\n",
    "    like = pm.Mixture('like', w=w, comp_dists = [pois1, pois2], observed=data)"
   ]
  },
  {
   "cell_type": "code",
   "execution_count": null,
   "metadata": {
    "collapsed": true
   },
   "outputs": [],
   "source": [
    "with model:\n",
    "    trace = pm.sample(tune=2000)"
   ]
  }
 ],
 "metadata": {
  "kernelspec": {
   "display_name": "Python 2",
   "language": "python",
   "name": "python2"
  },
  "language_info": {
   "codemirror_mode": {
    "name": "ipython",
    "version": 2
   },
   "file_extension": ".py",
   "mimetype": "text/x-python",
   "name": "python",
   "nbconvert_exporter": "python",
   "pygments_lexer": "ipython2",
   "version": "2.7.13"
  }
 },
 "nbformat": 4,
 "nbformat_minor": 2
}
