{
 "cells": [
  {
   "cell_type": "markdown",
   "metadata": {},
   "source": [
    "### Table of Contents\n",
    "- Intro\n",
    "- Nowcast\n",
    "- Using Nowcast to improve Forecast\n",
    "\n",
    "\n",
    "\n",
    "## Introduction\n",
    "\n",
    "\n",
    "Forecasting in the presence of reporting delay: simulation study. Given some delayed data, can we use the method described in Gibson, Reich, Ray to improve forecasts based on predicted values of nowcasting. \n",
    "\n",
    "Strategy\n",
    "\n",
    "\n",
    "- Generate data for t=0..100\n",
    "- Delay data from t=90..100 according to fixed delay proportions (that is artificially scale down the data)\n",
    "- Fit delay model to simulated delayed data\n",
    "- Generate nowcasts for t0=90..100\n",
    "- Retrain process model on mean predicted nowcasts (t=90..100)\n",
    "- Forecast t=100-110 using updated process model and original process model \n",
    "- Compare MSE\n",
    "\n",
    "### Notation \n",
    "\n",
    "We define $y_t$ as an observed value of this incidence in time interval $t$ from our time series $\\{y_1, y_2, y_3, \\dots\\, y_t, \\dots, y_T\\}$.\n",
    "We assume that these observations are draws from random variables $Y_1, Y_2, Y_3, \\dots, Y_t, \\dots, Y_T$, whose probability distributions can be thought of as a function of $t$, prior values of $y$ represented as $y_{1:t}$, and other covariates $x_t$.\n",
    "We use $T$ throughout to refer to the total number of time points in the time-series and $t$ to refer to a specific time point relative to which a forecast is generated.\n",
    "\n",
    "\n",
    "For forecasts of the time-series values itself, \\ie when a target is defined to be a past or future value of the time-series $Y_{t+k}$, we use a special nomenclature, referring to them as `k-step-ahead` forecasts.  \n",
    "We define $Z_{i|t}$ as a random variable for target $i$ positioned relative to time $t$. For example, in the infectious disease context, $Z_{i|t}$ could be:\n",
    "\n",
    " - incidence at time $t$, or $Y_t$,\n",
    " - incidence at time $t+k$ either in the future or past relative to time $t$, or $Y_{t+k}$, where $k$ is a positive or negative integer,\n",
    " - peak incidence within some period of time or season, or $\\max_t (Y_t)$ where $t$ are defined to be within a season,\n",
    "    \\item the time at which a peak occurs within some season, or $\\{ t': Y_{t'} = \\max_t (Y_t) \\} $\n",
    " - a binary indicator of whether incidence at time $t+k$ is above a specified threshold $C$, or $\\mathds{1} \\{Y_{t+k}>C\\}$.\n",
    "\\end{itemize}\n",
    "\n",
    "\n",
    "A forecast must provide {\\em quantitative and probabilistic} information about an outcome.\n",
    "In the context of this notation, a forecast can be represented as a predictive density function for a target, or $f_{z_{i|t}}(z|y_{1:t}, t, x_{t})$.\n",
    "The form of this density function will depend on the type of variable that $Z$ is, and it could be derived from a known parametric distribution or specified directly.\n",
    "\n",
    "In our initial experiments we are mostly concerned with the following distribution\n",
    "\n",
    "$$f_{Y_{t+k}|i}(Y_t | y_{1:t},t,x_t)$$\n",
    "\n",
    "that is, $k-step$ ahead forecast relative to time $t$.\n",
    "\n",
    "\n",
    "To enable clear definitions for forecasting in real-time, forecasts must be associated with a specific time $t$.\n",
    "In our database infrastructure, we refer to this time as a {\\tt timezero}.\n",
    "This specific time $t$ represents the point relative to which targets are defined.\n",
    "For example, if a forecast is associated with week 45 in 2013, then a `1-step-ahead' forecast would be associated with incidence in week 46 of 2013 and a `3-step-ahead' forecast would be associated with week 48.\n",
    "This {\\tt timezero} is not an intrinsic feature of a project or dataset, and is more or less arbitrarily defined or named by the data analyst or project organizers.\n",
    "For example, in the project above, if we defined a timezero as week 44 in 2013 then a `2-step-ahead' forecast would be associated with incidence in week 46, same as a `1-week-ahead' forecast from week 45.\n",
    "\n",
    "However, a second important date further refines our notion of what constitutes a forecast. \n",
    "We define a date $d$ as a {\\tt data-version-date}. \n",
    "Taken together, a $(t,d)$ pair uniquely define a forecast setting.\n",
    "Specifically, a forecast for $(t,d)$ represents forecasts for targets relative to date $t$ using data available at date $d$. "
   ]
  },
  {
   "cell_type": "markdown",
   "metadata": {},
   "source": [
    "## Simulation Study, fixing delay proportions and generating nowcast"
   ]
  },
  {
   "cell_type": "markdown",
   "metadata": {},
   "source": [
    "In order to apply the delay we simply take \n",
    "\n",
    "$$N_{t,d} = \\sum_{i=0}^dp_i*N_{t,\\infty}$$"
   ]
  },
  {
   "cell_type": "markdown",
   "metadata": {},
   "source": [
    "## Using nowcast to improve forecast\n",
    "\n",
    "\n"
   ]
  },
  {
   "cell_type": "code",
   "execution_count": 13,
   "metadata": {},
   "outputs": [
    {
     "data": {
      "image/png": "[encoded data removed]",
      "text/plain": [
       "<matplotlib.figure.Figure at 0x10d9c8d50>"
      ]
     },
     "metadata": {},
     "output_type": "display_data"
    }
   ],
   "source": [
    "from scipy.special import expit\n",
    "import numpy as np\n",
    "from pydlm import dlm, trend, seasonality, dynamic, autoReg, longSeason\n",
    "from sklearn.metrics import mean_squared_error\n",
    "\n",
    "scale_factor =1 \n",
    "variance_level_results = []\n",
    "\n",
    "cutoff = 100\n",
    "D = 10\n",
    "\n",
    "\n",
    "arr_list = np.zeros(260)\n",
    "        # iterate over season  \n",
    "for s in range(10):\n",
    "        #iterate over biweek per season\n",
    "        for t in range(26):\n",
    "            season_effect = np.random.choice([10,10,10], p = [0.2, 0.6, 0.2])\n",
    "            e_y = season_effect*np.cos(10*(t+np.pi)/(13*np.pi)) + season_effect\n",
    "            arr_list[(s-1)*26+t] = np.random.poisson(e_y) \n",
    "\n",
    "ts = arr_list[:cutoff]\n",
    "\n",
    "\n",
    "plt.plot(ts)\n",
    "plt.show()\n",
    "\n",
    "p_vec = np.random.dirichlet(np.ones(D),size=1)[0]\n",
    "\n",
    "for t in ts[:50]:\n",
    "    removal_cases = np.random.poisson(5)\n",
    "    removal_cases = removal_cases*p_vec\n",
    "    \n",
    "\n",
    "        \n",
    "        "
   ]
  },
  {
   "cell_type": "raw",
   "metadata": {},
   "source": []
  },
  {
   "cell_type": "code",
   "execution_count": 1,
   "metadata": {},
   "outputs": [
    {
     "ename": "NameError",
     "evalue": "name 'np' is not defined",
     "output_type": "error",
     "traceback": [
      "\u001b[0;31m---------------------------------------------------------------------------\u001b[0m",
      "\u001b[0;31mNameError\u001b[0m                                 Traceback (most recent call last)",
      "\u001b[0;32m<ipython-input-1-dd20ac208f87>\u001b[0m in \u001b[0;36m<module>\u001b[0;34m()\u001b[0m\n\u001b[1;32m      1\u001b[0m \u001b[0;34m\u001b[0m\u001b[0m\n\u001b[0;32m----> 2\u001b[0;31m \u001b[0mvariance_level_results\u001b[0m \u001b[0;34m=\u001b[0m \u001b[0mnp\u001b[0m\u001b[0;34m.\u001b[0m\u001b[0marray\u001b[0m\u001b[0;34m(\u001b[0m\u001b[0mvariance_level_results\u001b[0m\u001b[0;34m)\u001b[0m\u001b[0;34m\u001b[0m\u001b[0m\n\u001b[0m\u001b[1;32m      3\u001b[0m \u001b[0;34m\u001b[0m\u001b[0m\n\u001b[1;32m      4\u001b[0m \u001b[0mnp\u001b[0m\u001b[0;34m.\u001b[0m\u001b[0msave\u001b[0m\u001b[0;34m(\u001b[0m\u001b[0;34m\"variance_level_results_2\"\u001b[0m\u001b[0;34m,\u001b[0m\u001b[0mvariance_level_results\u001b[0m\u001b[0;34m)\u001b[0m\u001b[0;34m\u001b[0m\u001b[0m\n\u001b[1;32m      5\u001b[0m \u001b[0;32mprint\u001b[0m \u001b[0;34m(\u001b[0m\u001b[0mvariance_level_results\u001b[0m\u001b[0;34m)\u001b[0m\u001b[0;34m\u001b[0m\u001b[0m\n",
      "\u001b[0;31mNameError\u001b[0m: name 'np' is not defined"
     ]
    }
   ],
   "source": [
    "\n",
    "#variance_level_results = np.array(variance_level_results)\n",
    "#\n",
    "#np.save(\"variance_level_results_2\",variance_level_results)\n",
    "#print (variance_level_results)"
   ]
  },
  {
   "cell_type": "code",
   "execution_count": 10,
   "metadata": {},
   "outputs": [
    {
     "data": {
      "image/png": "[encoded data removed]",
      "text/plain": [
       "<matplotlib.figure.Figure at 0x10d95bad0>"
      ]
     },
     "metadata": {},
     "output_type": "display_data"
    }
   ],
   "source": [
    "import matplotlib.pyplot as plt\n",
    "import numpy as np\n",
    "#variance_level_results = np.load(\"variance_level_results_2.npy\")\n",
    "variance_level_results = np.array(variance_level_results)\n",
    "variance_level_results = variance_level_results.reshape((10,1))\n",
    "mean_var = np.log(np.mean(variance_level_results,axis=1))\n",
    "lower_ci = np.log(np.percentile(variance_level_results,q=2.25,axis=1))\n",
    "upper_ci = np.log(np.percentile(variance_level_results,q=97.5,axis=1))\n",
    "plt.plot(np.arange(0,100,10),np.repeat(0,10),linestyle='--')\n",
    "plt.plot(np.arange(0,100,10),mean_var)\n",
    "plt.plot(np.arange(0,100,10),mean_var,'o')\n",
    "plt.fill_between(np.arange(0,100,10),lower_ci,upper_ci,alpha=.1)\n",
    "plt.ylim(-2,1)\n",
    "plt.xlabel(\"Amount of Gaussian Noise in terms of SD\")\n",
    "plt.ylabel(\"log RelMSE\")\n",
    "plt.show()"
   ]
  },
  {
   "cell_type": "code",
   "execution_count": null,
   "metadata": {
    "collapsed": true
   },
   "outputs": [],
   "source": []
  }
 ],
 "metadata": {
  "kernelspec": {
   "display_name": "Python 2",
   "language": "python",
   "name": "python2"
  },
  "language_info": {
   "codemirror_mode": {
    "name": "ipython",
    "version": 2
   },
   "file_extension": ".py",
   "mimetype": "text/x-python",
   "name": "python",
   "nbconvert_exporter": "python",
   "pygments_lexer": "ipython2",
   "version": "2.7.13"
  }
 },
 "nbformat": 4,
 "nbformat_minor": 2
}
