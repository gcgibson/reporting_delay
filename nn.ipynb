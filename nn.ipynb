{
 "cells": [
  {
   "cell_type": "code",
   "execution_count": 19,
   "metadata": {},
   "outputs": [
    {
     "data": {
      "image/png": "[encoded data removed]",
      "text/plain": [
       "<matplotlib.figure.Figure at 0x10a25abd0>"
      ]
     },
     "metadata": {},
     "output_type": "display_data"
    }
   ],
   "source": [
    "import sys\n",
    "import numpy as np\n",
    "import matplotlib.pyplot as plt\n",
    "data = []\n",
    "count = 0\n",
    "with open (\"/Users/gcgibson/Downloads/San_Juan_Training_Data.csv\") as f:\n",
    "        for line in f.readlines():\n",
    "            if count > 0:\n",
    "                data.append(line.replace(\"\\n\",\"\").split(',')[-1])\n",
    "            count +=1\n",
    "data = np.array(data,dtype=np.float32)\n",
    "plt.plot(data)\n",
    "plt.show()\n",
    "\n"
   ]
  },
  {
   "cell_type": "code",
   "execution_count": 20,
   "metadata": {},
   "outputs": [],
   "source": [
    "def create_lag_training_set(data,num_lag=4,step_ahead=1):\n",
    "    X = []\n",
    "    y = []\n",
    "    \n",
    "    for i in range(num_lag,len(data)-step_ahead):\n",
    "        X.append(data[i-num_lag:i])\n",
    "        y.append(data[i+step_ahead])\n",
    "        \n",
    "    return np.array(X),np.array(y)\n",
    "\n",
    "X,y = create_lag_training_set(data)"
   ]
  },
  {
   "cell_type": "code",
   "execution_count": 32,
   "metadata": {},
   "outputs": [
    {
     "name": "stdout",
     "output_type": "stream",
     "text": [
      "_________________________________________________________________\n",
      "Layer (type)                 Output Shape              Param #   \n",
      "=================================================================\n",
      "dense_24 (Dense)             (None, 512)               2560      \n",
      "_________________________________________________________________\n",
      "lambda_3 (Lambda)            (None, 512)               0         \n",
      "_________________________________________________________________\n",
      "dense_25 (Dense)             (None, 512)               262656    \n",
      "_________________________________________________________________\n",
      "dense_26 (Dense)             (None, 1)                 513       \n",
      "=================================================================\n",
      "Total params: 265,729\n",
      "Trainable params: 265,729\n",
      "Non-trainable params: 0\n",
      "_________________________________________________________________\n"
     ]
    }
   ],
   "source": [
    "\n",
    "import keras\n",
    "from keras.datasets import mnist\n",
    "from keras.models import Sequential\n",
    "from keras.layers import Dense, Dropout\n",
    "from keras.optimizers import RMSprop\n",
    "\n",
    "batch_size = 1\n",
    "epochs = 20\n",
    "\n",
    "x_train = X[:len(X)-20]\n",
    "x_test= X[len(X)-20:]\n",
    "y_train= y[:len(X)-20]\n",
    "y_test = y[len(X)-20:]\n",
    "from keras.layers.core import Lambda\n",
    "from keras import backend as K\n",
    "\n",
    "model = Sequential()\n",
    "model.add(Dense(512, activation='relu', input_shape=(4,)))\n",
    "model.add(Lambda(lambda x: K.dropout(x, level=0.5)))\n",
    "model.add(Dense(512, activation='relu'))\n",
    "model.add(Dense(1, activation='linear'))\n",
    "\n",
    "model.summary()\n",
    "\n",
    "model.compile(loss='mean_squared_error',\n",
    "              optimizer=RMSprop(),\n",
    "              metrics=['accuracy'])\n",
    "\n",
    "history = model.fit(x_train, y_train,\n",
    "                    batch_size=batch_size,\n",
    "                    epochs=epochs,\n",
    "                    verbose=0,\n",
    "                    validation_data=(x_test, y_test))\n",
    "\n",
    "from sklearn.metrics import mean_squared_error\n",
    "nn_pred = []\n",
    "num_mcmc_samples = 100\n",
    "for s in range(num_mcmc_samples):\n",
    "    nn_pred.append(model.predict(x_test))"
   ]
  },
  {
   "cell_type": "code",
   "execution_count": 41,
   "metadata": {},
   "outputs": [],
   "source": [
    "nn_pred_mean = np.mean(nn_pred,axis=0)"
   ]
  },
  {
   "cell_type": "code",
   "execution_count": 42,
   "metadata": {},
   "outputs": [
    {
     "name": "stdout",
     "output_type": "stream",
     "text": [
      "('AR', 162.89510262716323)\n",
      "('NN:', 92.97561)\n"
     ]
    }
   ],
   "source": [
    "from statsmodels.tsa.ar_model import AR\n",
    "\n",
    "model = AR(data[:len(data)-20])\n",
    "model_fit = model.fit()\n",
    "ar_predictions = model_fit.predict(start=len(data)-20, end=len(data)-1, dynamic=False)\n",
    "print (\"AR\",mean_squared_error(ar_predictions,y_test))\n",
    "print (\"NN:\",mean_squared_error(nn_pred_mean,y_test))"
   ]
  },
  {
   "cell_type": "markdown",
   "metadata": {},
   "source": [
    "**Transfer leraning using SIR**"
   ]
  },
  {
   "cell_type": "code",
   "execution_count": 43,
   "metadata": {
    "collapsed": true
   },
   "outputs": [],
   "source": [
    "import numpy as np\n",
    "from scipy.integrate import odeint\n",
    "import matplotlib.pyplot as plt\n",
    "\n",
    "# Total population, N.\n",
    "N = 1000\n",
    "# Initial number of infected and recovered individuals, I0 and R0.\n",
    "I0, R0 = 1, 0\n",
    "# Everyone else, S0, is susceptible to infection initially.\n",
    "S0 = N - I0 - R0\n",
    "# Contact rate, beta, and mean recovery rate, gamma, (in 1/days).\n",
    "beta, gamma = 0.2, 1./10 \n",
    "# A grid of time points (in days)\n",
    "t = np.linspace(0, 160, 160)\n",
    "\n",
    "# The SIR model differential equations.\n",
    "def deriv(y, t, N, beta, gamma):\n",
    "    S, I, R = y\n",
    "    dSdt = -beta * S * I / N\n",
    "    dIdt = beta * S * I / N - gamma * I\n",
    "    dRdt = gamma * I\n",
    "    return dSdt, dIdt, dRdt\n",
    "\n",
    "# Initial conditions vector\n",
    "y0 = S0, I0, R0\n",
    "# Integrate the SIR equations over the time grid, t.\n",
    "ret = odeint(deriv, y0, t, args=(N, beta, gamma))\n",
    "S, I, R = ret.T"
   ]
  },
  {
   "cell_type": "code",
   "execution_count": 44,
   "metadata": {},
   "outputs": [
    {
     "data": {
      "text/plain": [
       "array([  1.        ,   1.10562053,   1.22234204,   1.3513191 ,\n",
       "         1.49382365,   1.65125635,   1.82515884,   2.01722707,\n",
       "         2.22932557,   2.46350299,   2.7220086 ,   3.00730991,\n",
       "         3.32211145,   3.66937465,   4.0523386 ,   4.47454174,\n",
       "         4.93984426,   5.45245089,   6.01693383,   6.63825544,\n",
       "         7.32178998,   8.0733439 ,   8.89917375,   9.80600063,\n",
       "        10.80102005,  11.89190567,  13.08680509,  14.39432578,\n",
       "        15.82350878,  17.38378769,  19.08492966,  20.93695584,\n",
       "        22.95003759,  25.13436512,  27.49998545,  30.05660664,\n",
       "        32.81336559,  35.77855836,  38.95933214,  42.3613401 ,\n",
       "        45.98836366,  49.84190696,  53.92077275,  58.22063343,\n",
       "        62.73361225,  67.44789302,  72.34738271,  77.41145123,\n",
       "        82.61477151,  87.92728803,  93.31433477,  98.73691852,\n",
       "       104.15218163, 109.51404327, 114.77400588, 119.88211691,\n",
       "       124.78804762, 129.44224339, 133.79710874, 137.80816356,\n",
       "       141.4351244 , 144.6428585 , 147.40216923, 149.69038148,\n",
       "       151.49170715, 152.79738485, 153.60560001, 153.92120225,\n",
       "       153.75524624, 153.12439686, 152.05021806, 150.55840117,\n",
       "       148.67795895, 146.44041705, 143.87903559, 141.02807891,\n",
       "       137.92215079, 134.59560683, 131.08204941, 127.41390762,\n",
       "       123.62209749, 119.73576561, 115.78209788, 111.78620131,\n",
       "       107.77103221, 103.75738361,  99.76390223,  95.80714629,\n",
       "        91.90166311,  88.06008926,  84.29326282,  80.61034497,\n",
       "        77.01894695,  73.52525828,  70.13417434,  66.84942101,\n",
       "        63.6736746 ,  60.60867676,  57.65534104,  54.81385524,\n",
       "        52.08377332,  49.46410317,  46.95338372,  44.5497582 ,\n",
       "        42.25103769,  40.05476056,  37.95824382,  35.95863031,\n",
       "        34.05292937,  32.23805354,  30.51085008,  28.86812885,\n",
       "        27.30668625,  25.82332584,  24.41487595,  23.07820469,\n",
       "        21.81023245,  20.60794189,  19.46838698,  18.38869908,\n",
       "        17.36609284,  16.39786977,  15.48142124,  14.61423051,\n",
       "        13.7938734 ,  13.01801915,  12.28442956,  11.59095867,\n",
       "        10.93555123,  10.31624114,   9.73114969,   9.17848316,\n",
       "         8.65653082,   8.16366211,   7.69832435,   7.25903989,\n",
       "         6.84440349,   6.45307961,   6.08379956,   5.73535898,\n",
       "         5.40661494,   5.09648347,   4.80393688,   4.52800124,\n",
       "         4.26775393,   4.02232121,   3.79087596,   3.57263538,\n",
       "         3.36685883,   3.1728458 ,   2.98993383,   2.81749665,\n",
       "         2.65494229,   2.50171137,   2.35727535,   2.22113495,\n",
       "         2.09281861,   1.97188103,   1.85790175,   1.75048384])"
      ]
     },
     "execution_count": 44,
     "metadata": {},
     "output_type": "execute_result"
    }
   ],
   "source": [
    "I"
   ]
  },
  {
   "cell_type": "code",
   "execution_count": 46,
   "metadata": {},
   "outputs": [
    {
     "name": "stdout",
     "output_type": "stream",
     "text": [
      "_________________________________________________________________\n",
      "Layer (type)                 Output Shape              Param #   \n",
      "=================================================================\n",
      "dense_30 (Dense)             (None, 512)               2560      \n",
      "_________________________________________________________________\n",
      "lambda_5 (Lambda)            (None, 512)               0         \n",
      "_________________________________________________________________\n",
      "dense_31 (Dense)             (None, 512)               262656    \n",
      "_________________________________________________________________\n",
      "dense_32 (Dense)             (None, 1)                 513       \n",
      "=================================================================\n",
      "Total params: 265,729\n",
      "Trainable params: 265,729\n",
      "Non-trainable params: 0\n",
      "_________________________________________________________________\n"
     ]
    }
   ],
   "source": [
    "\n",
    "X,y = create_lag_training_set(I)\n",
    "\n",
    "x_train = X[:len(X)-20]\n",
    "x_test= X[len(X)-20:]\n",
    "y_train= y[:len(X)-20]\n",
    "y_test = y[len(X)-20:]\n",
    "from keras.layers.core import Lambda\n",
    "from keras import backend as K\n",
    "\n",
    "model = Sequential()\n",
    "model.add(Dense(512, activation='relu', input_shape=(4,)))\n",
    "model.add(Lambda(lambda x: K.dropout(x, level=0.5)))\n",
    "model.add(Dense(512, activation='relu'))\n",
    "model.add(Dense(1, activation='linear'))\n",
    "\n",
    "model.summary()\n",
    "\n",
    "model.compile(loss='mean_squared_error',\n",
    "              optimizer=RMSprop(),\n",
    "              metrics=['accuracy'])\n",
    "model.fit(x_train, y_train,\n",
    "                    batch_size=batch_size,\n",
    "                    epochs=epochs,\n",
    "                    verbose=0,\n",
    "                    validation_data=(x_test, y_test))\n",
    "\n",
    "\n",
    "    \n",
    "model.layers[0].trainable = False"
   ]
  },
  {
   "cell_type": "code",
   "execution_count": null,
   "metadata": {},
   "outputs": [
    {
     "name": "stderr",
     "output_type": "stream",
     "text": [
      "/Users/gcgibson/anaconda/lib/python2.7/site-packages/keras/engine/training.py:973: UserWarning: Discrepancy between trainable weights and collected trainable weights, did you set `model.trainable` without calling `model.compile` after ?\n",
      "  'Discrepancy between trainable weights and collected trainable'\n"
     ]
    }
   ],
   "source": [
    "X,y = create_lag_training_set(data)\n",
    "\n",
    "x_train = X[:len(X)-20]\n",
    "x_test= X[len(X)-20:]\n",
    "y_train= y[:len(X)-20]\n",
    "y_test = y[len(X)-20:]\n",
    "model.fit(x_train, y_train,\n",
    "                    batch_size=batch_size,\n",
    "                    epochs=epochs,\n",
    "                    verbose=0)\n"
   ]
  },
  {
   "cell_type": "code",
   "execution_count": null,
   "metadata": {
    "collapsed": true
   },
   "outputs": [],
   "source": []
  }
 ],
 "metadata": {
  "kernelspec": {
   "display_name": "Python 2",
   "language": "python",
   "name": "python2"
  },
  "language_info": {
   "codemirror_mode": {
    "name": "ipython",
    "version": 2
   },
   "file_extension": ".py",
   "mimetype": "text/x-python",
   "name": "python",
   "nbconvert_exporter": "python",
   "pygments_lexer": "ipython2",
   "version": "2.7.13"
  }
 },
 "nbformat": 4,
 "nbformat_minor": 2
}
