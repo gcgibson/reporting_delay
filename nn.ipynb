{
 "cells": [
  {
   "cell_type": "markdown",
   "metadata": {},
   "source": [
    "**DATA**\n",
    "\n",
    "San Juan Dengue data from 1990-2008, in weeks. Therefore we have 936 weeks indexed from 1....936\n",
    "\n",
    "\n",
    "**MODEL**\n",
    "\n",
    "Neural net -- well it is a neural net ...so ... you know\n",
    "\n",
    "Neural net w SIR -- Fit SIR model to data, train a neural net to fit the results from the SIR fitting, fix all weights of the NN EXCEPT for the output layer, train to actual data. This forces the NN to produce functions that are SIR-like.\n",
    "\n",
    "\n",
    "**SET-UP**\n",
    "\n",
    "\n",
    "We fit both models on a series of time zeroes, and forecast **20** steps ahead **using the correct input (i.e. the previous observed $Y_{t-4},Y_{t-3},Y_{t-2},Y_{t-1}$) for t+1...t+20** \n",
    "\n",
    "Why in the world would we do this? Well the training data is already split into $input: Y_{t-4},Y_{t-3},Y_{t-2},Y_{t-1} \\rightarrow output: Y_t$ so when we forecast we use the true values for the input. This could easily not be the best way to validate it. \n",
    "\n",
    "**RESULTS**"
   ]
  },
  {
   "cell_type": "markdown",
   "metadata": {},
   "source": [
    "| T_0 | Neural Net | SIR - Pretrained NN |\n",
    "|:---: |:----------:| :------------------:|\n",
    "| 400| **52** | 59|\n",
    "| 425| 84 | **79**|\n",
    "| 450|**5** | 6|\n",
    "| 475|97 | **85**| \n",
    "| 500|114 | **109**| \n",
    "| 525|**299** | 437|\n",
    "| 550|5007 | **4313**|\n",
    "| 575|**228** | 331|\n",
    "| 600|134| **125**|\n",
    "| 625| 47 | **38**|\n",
    "| 650|36 | **34**|\n",
    "|675| 36 | **30**|\n",
    "|total|6145 | **5649**|"
   ]
  },
  {
   "cell_type": "code",
   "execution_count": null,
   "metadata": {
    "collapsed": true
   },
   "outputs": [],
   "source": []
  },
  {
   "cell_type": "code",
   "execution_count": 77,
   "metadata": {},
   "outputs": [
    {
     "data": {
      "image/png": "[encoded data removed]",
      "text/plain": [
       "<matplotlib.figure.Figure at 0x12316fbd0>"
      ]
     },
     "metadata": {},
     "output_type": "display_data"
    }
   ],
   "source": [
    "import sys\n",
    "import numpy as np\n",
    "import matplotlib.pyplot as plt\n",
    "data = []\n",
    "count = 0\n",
    "with open (\"/Users/gcgibson/Downloads/San_Juan_Training_Data.csv\") as f:\n",
    "        for line in f.readlines():\n",
    "            if count > 0:\n",
    "                data.append(line.replace(\"\\n\",\"\").split(',')[-1])\n",
    "            count +=1\n",
    "data = np.array(data,dtype=np.float32)\n",
    "plt.plot(data)\n",
    "plt.show()\n",
    "\n"
   ]
  },
  {
   "cell_type": "code",
   "execution_count": 78,
   "metadata": {
    "collapsed": true
   },
   "outputs": [],
   "source": [
    "def create_lag_training_set(data,num_lag=4,step_ahead=1):\n",
    "    X = []\n",
    "    y = []\n",
    "    \n",
    "    for i in range(num_lag,len(data)-step_ahead):\n",
    "        X.append(data[i-num_lag:i])\n",
    "        y.append(data[i+step_ahead])\n",
    "        \n",
    "    return np.array(X),np.array(y)\n",
    "\n",
    "X,y = create_lag_training_set(data)"
   ]
  },
  {
   "cell_type": "code",
   "execution_count": 79,
   "metadata": {},
   "outputs": [
    {
     "name": "stdout",
     "output_type": "stream",
     "text": [
      "_________________________________________________________________\n",
      "Layer (type)                 Output Shape              Param #   \n",
      "=================================================================\n",
      "dense_42 (Dense)             (None, 512)               2560      \n",
      "_________________________________________________________________\n",
      "lambda_9 (Lambda)            (None, 512)               0         \n",
      "_________________________________________________________________\n",
      "dense_43 (Dense)             (None, 512)               262656    \n",
      "_________________________________________________________________\n",
      "dense_44 (Dense)             (None, 1)                 513       \n",
      "=================================================================\n",
      "Total params: 265,729\n",
      "Trainable params: 265,729\n",
      "Non-trainable params: 0\n",
      "_________________________________________________________________\n"
     ]
    }
   ],
   "source": [
    "\n",
    "import keras\n",
    "from keras.datasets import mnist\n",
    "from keras.models import Sequential\n",
    "from keras.layers import Dense, Dropout\n",
    "from keras.optimizers import RMSprop\n",
    "\n",
    "batch_size = 1\n",
    "epochs = 20\n",
    "\n",
    "x_train = X[:len(X)-20]\n",
    "x_test= X[len(X)-20:]\n",
    "y_train= y[:len(X)-20]\n",
    "y_test = y[len(X)-20:]\n",
    "from keras.layers.core import Lambda\n",
    "from keras import backend as K\n",
    "\n",
    "model = Sequential()\n",
    "model.add(Dense(512, activation='relu', input_shape=(4,)))\n",
    "model.add(Lambda(lambda x: K.dropout(x, level=0.5)))\n",
    "model.add(Dense(512, activation='relu'))\n",
    "model.add(Dense(1, activation='linear'))\n",
    "\n",
    "model.summary()\n",
    "\n",
    "model.compile(loss='mean_squared_error',\n",
    "              optimizer=RMSprop(),\n",
    "              metrics=['accuracy'])\n",
    "\n",
    "history = model.fit(x_train, y_train,\n",
    "                    batch_size=batch_size,\n",
    "                    epochs=epochs,\n",
    "                    verbose=0,\n",
    "                    validation_data=(x_test, y_test))\n",
    "\n",
    "from sklearn.metrics import mean_squared_error\n",
    "nn_pred = []\n",
    "num_mcmc_samples = 100\n",
    "for s in range(num_mcmc_samples):\n",
    "    nn_pred.append(model.predict(x_test))"
   ]
  },
  {
   "cell_type": "code",
   "execution_count": 80,
   "metadata": {
    "collapsed": true
   },
   "outputs": [],
   "source": [
    "nn_pred_mean = np.mean(nn_pred,axis=0)"
   ]
  },
  {
   "cell_type": "code",
   "execution_count": 81,
   "metadata": {},
   "outputs": [
    {
     "name": "stdout",
     "output_type": "stream",
     "text": [
      "('AR', 162.89510262716323)\n",
      "('NN:', 120.35356)\n"
     ]
    }
   ],
   "source": [
    "from statsmodels.tsa.ar_model import AR\n",
    "\n",
    "model = AR(data[:len(data)-20])\n",
    "model_fit = model.fit()\n",
    "ar_predictions = model_fit.predict(start=len(data)-20, end=len(data)-1, dynamic=False)\n",
    "print (\"AR\",mean_squared_error(ar_predictions,y_test))\n",
    "print (\"NN:\",mean_squared_error(nn_pred_mean,y_test))"
   ]
  },
  {
   "cell_type": "markdown",
   "metadata": {},
   "source": [
    "**Transfer leraning using SIR**"
   ]
  },
  {
   "cell_type": "code",
   "execution_count": 82,
   "metadata": {},
   "outputs": [
    {
     "data": {
      "image/png": "[encoded data removed]",
      "text/plain": [
       "<matplotlib.figure.Figure at 0x122d20c10>"
      ]
     },
     "metadata": {},
     "output_type": "display_data"
    }
   ],
   "source": [
    "import numpy as np\n",
    "from scipy.integrate import odeint\n",
    "import matplotlib.pyplot as plt\n",
    "from scipy import integrate, optimize\n",
    "\n",
    "ydata = data[:52]\n",
    "xdata = np.arange(1,len(ydata)+1)\n",
    "def sir_model(y, x, beta, gamma):\n",
    "    S = -beta * y[0] * y[1] / N\n",
    "    R = gamma * y[1]\n",
    "    I = -(S + R)\n",
    "    return S, I, R\n",
    "\n",
    "def fit_odeint(x, beta, gamma):\n",
    "    return integrate.odeint(sir_model, (S0, I0, R0), x, args=(beta, gamma))[:,1]\n",
    "\n",
    "N = 1.0\n",
    "I0 = ydata[0]\n",
    "S0 = N - I0\n",
    "R0 = 0.0\n",
    "\n",
    "popt, pcov = optimize.curve_fit(fit_odeint, xdata, ydata)\n",
    "fitted = fit_odeint(xdata, *popt)\n",
    "\n",
    "plt.plot(xdata, ydata, 'o')\n",
    "plt.plot(xdata, fitted)\n",
    "plt.show()"
   ]
  },
  {
   "cell_type": "code",
   "execution_count": 83,
   "metadata": {},
   "outputs": [
    {
     "name": "stdout",
     "output_type": "stream",
     "text": [
      "_________________________________________________________________\n",
      "Layer (type)                 Output Shape              Param #   \n",
      "=================================================================\n",
      "dense_45 (Dense)             (None, 512)               2560      \n",
      "_________________________________________________________________\n",
      "lambda_10 (Lambda)           (None, 512)               0         \n",
      "_________________________________________________________________\n",
      "dense_46 (Dense)             (None, 512)               262656    \n",
      "_________________________________________________________________\n",
      "dense_47 (Dense)             (None, 1)                 513       \n",
      "=================================================================\n",
      "Total params: 265,729\n",
      "Trainable params: 265,729\n",
      "Non-trainable params: 0\n",
      "_________________________________________________________________\n"
     ]
    }
   ],
   "source": [
    "\n",
    "X,y = create_lag_training_set(fitted)\n",
    "\n",
    "x_train = X[:len(X)-20]\n",
    "x_test= X[len(X)-20:]\n",
    "y_train= y[:len(X)-20]\n",
    "y_test = y[len(X)-20:]\n",
    "from keras.layers.core import Lambda\n",
    "from keras import backend as K\n",
    "\n",
    "model = Sequential()\n",
    "model.add(Dense(512, activation='relu', input_shape=(4,)))\n",
    "model.add(Lambda(lambda x: K.dropout(x, level=0.5)))\n",
    "model.add(Dense(512, activation='relu'))\n",
    "model.add(Dense(1, activation='linear'))\n",
    "\n",
    "model.summary()\n",
    "\n",
    "model.compile(loss='mean_squared_error',\n",
    "              optimizer=RMSprop(),\n",
    "              metrics=['accuracy'])\n",
    "model.fit(x_train, y_train,\n",
    "                    batch_size=batch_size,\n",
    "                    epochs=epochs,\n",
    "                    verbose=0,\n",
    "                    validation_data=(x_test, y_test))\n",
    "\n",
    "\n",
    "    \n",
    "model.layers[0].trainable = False"
   ]
  },
  {
   "cell_type": "code",
   "execution_count": 84,
   "metadata": {},
   "outputs": [
    {
     "data": {
      "text/plain": [
       "<keras.callbacks.History at 0x122d12490>"
      ]
     },
     "execution_count": 84,
     "metadata": {},
     "output_type": "execute_result"
    }
   ],
   "source": [
    "X,y = create_lag_training_set(data)\n",
    "\n",
    "x_train = X[:len(X)-20]\n",
    "x_test= X[len(X)-20:]\n",
    "y_train= y[:len(X)-20]\n",
    "y_test = y[len(X)-20:]\n",
    "model.fit(x_train, y_train,\n",
    "                    batch_size=batch_size,\n",
    "                    epochs=epochs,\n",
    "                    verbose=0)\n"
   ]
  },
  {
   "cell_type": "code",
   "execution_count": 85,
   "metadata": {
    "collapsed": true
   },
   "outputs": [],
   "source": [
    "nn_pred = []\n",
    "num_mcmc_samples = 100\n",
    "for s in range(num_mcmc_samples):\n",
    "    nn_pred.append(model.predict(x_test))\n",
    "nn_pred_mean_sir = np.mean(nn_pred,axis=0)"
   ]
  },
  {
   "cell_type": "code",
   "execution_count": 86,
   "metadata": {},
   "outputs": [
    {
     "name": "stdout",
     "output_type": "stream",
     "text": [
      "('SIR-NN:', 109.20089)\n",
      "('AR', 162.89510262716323)\n",
      "('NN:', 120.35356)\n"
     ]
    }
   ],
   "source": [
    "print (\"SIR-NN:\",mean_squared_error(nn_pred_mean_sir,y_test))\n",
    "print (\"AR\",mean_squared_error(ar_predictions,y_test))\n",
    "print (\"NN:\",mean_squared_error(nn_pred_mean,y_test))"
   ]
  },
  {
   "cell_type": "markdown",
   "metadata": {},
   "source": [
    "We now run this multiple times "
   ]
  },
  {
   "cell_type": "code",
   "execution_count": 93,
   "metadata": {},
   "outputs": [
    {
     "name": "stdout",
     "output_type": "stream",
     "text": [
      "(52.004616, 59.09324)\n",
      "(84.98732, 79.041565)\n",
      "(5.5392437, 6.0029383)\n",
      "(97.90675, 85.24619)\n",
      "(114.50337, 109.45652)\n",
      "(299.28665, 437.51996)\n",
      "(5007.31, 4313.1147)\n",
      "(228.83115, 331.3122)\n",
      "(134.8654, 125.01438)\n",
      "(47.514545, 38.8715)\n",
      "(36.007866, 34.063824)\n",
      "(36.248013, 30.59559)\n",
      "(6145.004987716675, 5649.332648277283)\n"
     ]
    }
   ],
   "source": [
    "def run_experiment(cutoff=0):\n",
    "    local_data = data[:len(data)-cutoff]\n",
    "    batch_size = 1\n",
    "    epochs = 20\n",
    "    X,y = create_lag_training_set(local_data)\n",
    "    x_train = X[:len(X)-20]\n",
    "    x_test= X[len(X)-20:]\n",
    "    y_train= y[:len(X)-20]\n",
    "    y_test = y[len(X)-20:]\n",
    "\n",
    "    model = Sequential()\n",
    "    model.add(Dense(512, activation='relu', input_shape=(4,)))\n",
    "    model.add(Lambda(lambda x: K.dropout(x, level=0.5)))\n",
    "    model.add(Dense(512, activation='relu'))\n",
    "    model.add(Dense(1, activation='linear'))\n",
    "\n",
    "\n",
    "    model.compile(loss='mean_squared_error',\n",
    "                  optimizer=RMSprop(),\n",
    "                  metrics=['accuracy'])\n",
    "\n",
    "    history = model.fit(x_train, y_train,\n",
    "                        batch_size=batch_size,\n",
    "                        epochs=epochs,\n",
    "                        verbose=0,\n",
    "                        validation_data=(x_test, y_test))\n",
    "\n",
    "    nn_pred = []\n",
    "    num_mcmc_samples = 100\n",
    "    for s in range(num_mcmc_samples):\n",
    "        nn_pred.append(model.predict(x_test))\n",
    "    nn_pred_mean = np.mean(nn_pred,axis=0)\n",
    "    ydata = local_data[:52]\n",
    "    xdata = np.arange(1,len(ydata)+1)\n",
    "    \n",
    "\n",
    "    N = 1.0\n",
    "    I0 = ydata[0]\n",
    "    S0 = N - I0\n",
    "    R0 = 0.0\n",
    "\n",
    "    popt, pcov = optimize.curve_fit(fit_odeint, xdata, ydata)\n",
    "    fitted = fit_odeint(xdata, *popt)\n",
    "    X,y = create_lag_training_set(fitted)\n",
    "\n",
    "    x_train = X[:len(X)-20]\n",
    "    x_test= X[len(X)-20:]\n",
    "    y_train= y[:len(X)-20]\n",
    "    y_test = y[len(X)-20:]\n",
    "   \n",
    "    model = Sequential()\n",
    "    model.add(Dense(512, activation='relu', input_shape=(4,)))\n",
    "    model.add(Lambda(lambda x: K.dropout(x, level=0.5)))\n",
    "    model.add(Dense(512, activation='relu'))\n",
    "    model.add(Dense(1, activation='linear'))\n",
    "\n",
    "\n",
    "    model.compile(loss='mean_squared_error',\n",
    "                  optimizer=RMSprop(),\n",
    "                  metrics=['accuracy'])\n",
    "    model.fit(x_train, y_train,\n",
    "                        batch_size=batch_size,\n",
    "                        epochs=epochs,\n",
    "                        verbose=0,\n",
    "                        validation_data=(x_test, y_test))\n",
    "\n",
    "\n",
    "\n",
    "    model.layers[0].trainable = False\n",
    "    X,y = create_lag_training_set(local_data)\n",
    "\n",
    "    x_train = X[:len(X)-20]\n",
    "    x_test= X[len(X)-20:]\n",
    "    y_train= y[:len(X)-20]\n",
    "    y_test = y[len(X)-20:]\n",
    "    model.fit(x_train, y_train,\n",
    "                        batch_size=batch_size,\n",
    "                        epochs=epochs,\n",
    "                        verbose=0)\n",
    "    nn_pred = []\n",
    "    num_mcmc_samples = 100\n",
    "    for s in range(num_mcmc_samples):\n",
    "        nn_pred.append(model.predict(x_test))\n",
    "    nn_pred_mean_sir = np.mean(nn_pred,axis=0)\n",
    "    return mean_squared_error(nn_pred_mean,y_test),mean_squared_error(nn_pred_mean_sir,y_test)\n",
    "\n",
    "total_nn = 0\n",
    "total_sir_nn = 0 \n",
    "for i in range(400,700,25):\n",
    "    nn,sir_nn = run_experiment(i)\n",
    "    print (nn,sir_nn)\n",
    "    total_nn +=nn\n",
    "    total_sir_nn += sir_nn\n",
    "    \n",
    "print (total_nn,total_sir_nn)"
   ]
  },
  {
   "cell_type": "code",
   "execution_count": null,
   "metadata": {
    "collapsed": true
   },
   "outputs": [],
   "source": []
  }
 ],
 "metadata": {
  "kernelspec": {
   "display_name": "Python 2",
   "language": "python",
   "name": "python2"
  },
  "language_info": {
   "codemirror_mode": {
    "name": "ipython",
    "version": 2
   },
   "file_extension": ".py",
   "mimetype": "text/x-python",
   "name": "python",
   "nbconvert_exporter": "python",
   "pygments_lexer": "ipython2",
   "version": "2.7.13"
  }
 },
 "nbformat": 4,
 "nbformat_minor": 2
}
