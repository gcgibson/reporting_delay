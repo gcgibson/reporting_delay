{
 "cells": [
  {
   "cell_type": "code",
   "execution_count": 79,
   "metadata": {},
   "outputs": [
    {
     "name": "stderr",
     "output_type": "stream",
     "text": [
      "/Users/gcgibson/anaconda/lib/python2.7/site-packages/ipykernel_launcher.py:11: FutureWarning: from_csv is deprecated. Please use read_csv(...) instead. Note that some of the default arguments are different, so please refer to the documentation for from_csv when changing your function calls\n",
      "  # This is added back by InteractiveShellApp.init_path()\n"
     ]
    }
   ],
   "source": [
    "data = []\n",
    "count =0\n",
    "import pandas as pd\n",
    "with open (\"/Users/gcgibson/Downloads/San_Juan_Training_Data.csv\") as f:\n",
    "            for line in f.readlines():\n",
    "                if count > 0:\n",
    "                    data.append(line.replace(\"\\n\",\"\").split(',')[-1])\n",
    "                count +=1\n",
    "                \n",
    "import numpy as np\n",
    "pd_obj =  pd.DataFrame.from_csv(\"/Users/gcgibson/Downloads/SanJuan_Precip.csv\")\n"
   ]
  },
  {
   "cell_type": "markdown",
   "metadata": {},
   "source": [
    "## print (x1)"
   ]
  },
  {
   "cell_type": "code",
   "execution_count": 67,
   "metadata": {},
   "outputs": [
    {
     "name": "stdout",
     "output_type": "stream",
     "text": [
      "[0.0, -98144.89, -48717.54000000001, -287760.42000000004, -148459.59000000003, 1031.74, -18135.649999999998, -18143.569999999996, 1267.61, 2371.6499999999996, -27684.670000000002, 1606.07, 2009.43, 1528.52, 2459.98, 1906.58, 2145.59, 2077.99, 1823.7, 1253.9699999999998, 1218.02, 1539.9099999999999, -8219.53, -28806.729999999996, 1433.83]\n"
     ]
    }
   ],
   "source": [
    "print (x1)"
   ]
  },
  {
   "cell_type": "code",
   "execution_count": null,
   "metadata": {
    "collapsed": true
   },
   "outputs": [],
   "source": []
  }
 ],
 "metadata": {
  "kernelspec": {
   "display_name": "Python 2",
   "language": "python",
   "name": "python2"
  },
  "language_info": {
   "codemirror_mode": {
    "name": "ipython",
    "version": 2
   },
   "file_extension": ".py",
   "mimetype": "text/x-python",
   "name": "python",
   "nbconvert_exporter": "python",
   "pygments_lexer": "ipython2",
   "version": "2.7.13"
  }
 },
 "nbformat": 4,
 "nbformat_minor": 2
}
