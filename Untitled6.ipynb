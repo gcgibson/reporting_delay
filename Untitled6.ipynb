{
 "cells": [
  {
   "cell_type": "code",
   "execution_count": 241,
   "metadata": {},
   "outputs": [
    {
     "name": "stdout",
     "output_type": "stream",
     "text": [
      "(77, 26)\n"
     ]
    },
    {
     "data": {
      "image/png": "[encoded data removed]",
      "text/plain": [
       "<matplotlib.figure.Figure at 0x1326e8350>"
      ]
     },
     "metadata": {},
     "output_type": "display_data"
    }
   ],
   "source": [
    "from contextlib import contextmanager\n",
    "import sys, os\n",
    "\n",
    "@contextmanager\n",
    "def suppress_stdout():\n",
    "    with open(os.devnull, \"w\") as devnull:\n",
    "        old_stdout = sys.stdout\n",
    "        sys.stdout = devnull\n",
    "        try:  \n",
    "            yield\n",
    "        finally:\n",
    "            sys.stdout = old_stdout\n",
    "            \n",
    "            \n",
    "import numpy as np\n",
    "import matplotlib.pyplot as plt\n",
    "plt.style.use('ggplot')\n",
    "\n",
    "plt.rcParams['lines.linewidth']=1\n",
    "plt.rcParams['axes.facecolor']='w'\n",
    "\n",
    "n_t_d = []\n",
    "with open(\"province-biweek_with_delays.csv\") as f:\n",
    "    i = 0\n",
    "    for line in f.readlines():\n",
    "        if i > 0:\n",
    "            n_t_d.append(line.replace(\"\\n\",\"\").split(','))\n",
    "        i+=1\n",
    "\n",
    "n_t_d_1 = []\n",
    "\n",
    "for elm in n_t_d:\n",
    "    if elm[2] == \"10\":\n",
    "        n_t_d_1.append(elm)\n",
    "\n",
    "\n",
    "index_to_dates = {}\n",
    "dates_to_index = {}\n",
    "count = 0\n",
    "for i in [\"2014\",\"2015\",\"2016\"]:\n",
    "    for j in range(1,27):\n",
    "        index_to_dates[count] = str(i)+str(j)\n",
    "        dates_to_index[str(i)+str(j)] = count\n",
    "        count +=1\n",
    "        \n",
    "reporting_matrix = np.zeros((26*3,26*3))\n",
    "\n",
    "for elm in n_t_d_1:\n",
    "    try:\n",
    "        sick_date = elm[0]+elm[1]\n",
    "        report_date = elm[-2] + elm[-1]\n",
    "        cases = elm[3]\n",
    "        reporting_matrix_row = dates_to_index[sick_date] \n",
    "        reporting_matrix_col =  dates_to_index[report_date] \n",
    "        reporting_matrix[reporting_matrix_row,reporting_matrix_col] = int(cases)\n",
    "    except:\n",
    "        pass\n",
    "#np.set_printoptions(threshold=np.nan)\n",
    "\n",
    "\n",
    "D=26\n",
    "n_t_d = np.zeros((len(reporting_matrix),D))\n",
    "\n",
    "for i in range(len(reporting_matrix)):\n",
    "    for j in range(i,i+D):\n",
    "        try:\n",
    "            n_t_d[i,j-i] = reporting_matrix[i][j]\n",
    "        except:\n",
    "            pass\n",
    "n_t_d = n_t_d[:-1]\n",
    "p_hat = []\n",
    "from matplotlib.pyplot import cm\n",
    "\n",
    "for i in range(len(n_t_d)):\n",
    "    p_hat.append(n_t_d[i]/np.sum(n_t_d[i]))\n",
    "    \n",
    "p_hat = np.array(p_hat)\n",
    "print (p_hat.shape)\n",
    "plt.figure(figsize=(8,8))\n",
    "plt.ylabel(\"Bi-week\")\n",
    "plt.xlabel(\"d\")\n",
    "plt.imshow(np.cumsum(p_hat,axis=1),aspect='auto',cmap=cm.Blues)\n",
    "plt.legend()\n",
    "plt.colorbar()\n",
    "plt.show()"
   ]
  },
  {
   "cell_type": "code",
   "execution_count": 242,
   "metadata": {},
   "outputs": [
    {
     "name": "stdout",
     "output_type": "stream",
     "text": [
      "(2002,)\n",
      "[ 0  1  2 ... 23 24 25]\n",
      "(2002, 2002)\n"
     ]
    },
    {
     "data": {
      "image/png": "[encoded data removed]",
      "text/plain": [
       "<matplotlib.figure.Figure at 0x11e4cac90>"
      ]
     },
     "metadata": {},
     "output_type": "display_data"
    }
   ],
   "source": [
    "\n",
    "\n",
    "from matplotlib import animation as ani, pyplot as plt\n",
    "import numpy as np\n",
    "import pandas as pd\n",
    "import pymc3 as pm\n",
    "import seaborn as sns\n",
    "from theano import shared, tensor as tt\n",
    "\n",
    "\n",
    "def norm_cdf(z):\n",
    "    return 0.5 * (1 + tt.erf(z / np.sqrt(2)))\n",
    "\n",
    "p_cum_sum = np.cumsum(p_hat,axis=1).flatten() \n",
    "print (p_cum_sum.shape)\n",
    "x = np.repeat(np.arange(26).reshape((-1,1)),77,axis=1).flatten('F')\n",
    "print (x)\n",
    "print (len(x),len(p_cum_sum))\n",
    "plt.scatter(x,p_cum_sum)\n",
    "plt.show()"
   ]
  },
  {
   "cell_type": "code",
   "execution_count": 243,
   "metadata": {},
   "outputs": [
    {
     "ename": "KeyError",
     "evalue": "'Unknown variable alpha'",
     "output_type": "error",
     "traceback": [
      "\u001b[0;31m---------------------------------------------------------------------------\u001b[0m",
      "\u001b[0;31mKeyError\u001b[0m                                  Traceback (most recent call last)",
      "\u001b[0;32m<ipython-input-243-919703739977>\u001b[0m in \u001b[0;36m<module>\u001b[0;34m()\u001b[0m\n\u001b[0;32m----> 1\u001b[0;31m \u001b[0;32mprint\u001b[0m \u001b[0mhierarchical_trace\u001b[0m\u001b[0;34m[\u001b[0m\u001b[0;34m'alpha'\u001b[0m\u001b[0;34m]\u001b[0m\u001b[0;34m\u001b[0m\u001b[0m\n\u001b[0m",
      "\u001b[0;32m/Users/gcgibson/anaconda/lib/python2.7/site-packages/pymc3/backends/base.pyc\u001b[0m in \u001b[0;36m__getitem__\u001b[0;34m(self, idx)\u001b[0m\n\u001b[1;32m    301\u001b[0m         \u001b[0;32mif\u001b[0m \u001b[0mvar\u001b[0m \u001b[0;32min\u001b[0m \u001b[0mself\u001b[0m\u001b[0;34m.\u001b[0m\u001b[0mstat_names\u001b[0m\u001b[0;34m:\u001b[0m\u001b[0;34m\u001b[0m\u001b[0m\n\u001b[1;32m    302\u001b[0m             \u001b[0;32mreturn\u001b[0m \u001b[0mself\u001b[0m\u001b[0;34m.\u001b[0m\u001b[0mget_sampler_stats\u001b[0m\u001b[0;34m(\u001b[0m\u001b[0mvar\u001b[0m\u001b[0;34m,\u001b[0m \u001b[0mburn\u001b[0m\u001b[0;34m=\u001b[0m\u001b[0mburn\u001b[0m\u001b[0;34m,\u001b[0m \u001b[0mthin\u001b[0m\u001b[0;34m=\u001b[0m\u001b[0mthin\u001b[0m\u001b[0;34m)\u001b[0m\u001b[0;34m\u001b[0m\u001b[0m\n\u001b[0;32m--> 303\u001b[0;31m         \u001b[0;32mraise\u001b[0m \u001b[0mKeyError\u001b[0m\u001b[0;34m(\u001b[0m\u001b[0;34m\"Unknown variable %s\"\u001b[0m \u001b[0;34m%\u001b[0m \u001b[0mvar\u001b[0m\u001b[0;34m)\u001b[0m\u001b[0;34m\u001b[0m\u001b[0m\n\u001b[0m\u001b[1;32m    304\u001b[0m \u001b[0;34m\u001b[0m\u001b[0m\n\u001b[1;32m    305\u001b[0m     _attrs = set(['_straces', 'varnames', 'chains', 'stat_names',\n",
      "\u001b[0;31mKeyError\u001b[0m: 'Unknown variable alpha'"
     ]
    }
   ],
   "source": [
    "print hierarchical_trace['alpha']"
   ]
  },
  {
   "cell_type": "code",
   "execution_count": 244,
   "metadata": {},
   "outputs": [
    {
     "data": {
      "image/png": "[encoded data removed]",
      "text/plain": [
       "<matplotlib.figure.Figure at 0x130841c10>"
      ]
     },
     "metadata": {},
     "output_type": "display_data"
    },
    {
     "name": "stderr",
     "output_type": "stream",
     "text": [
      "logp = -62,704, ||grad|| = 127.51: 100%|██████████| 13/13 [00:00<00:00, 1020.65it/s] \n",
      "100%|██████████| 3000/3000 [00:02<00:00, 1057.58it/s]\n"
     ]
    }
   ],
   "source": [
    "d = range(26)\n",
    "x = []\n",
    "y= []\n",
    "off = []\n",
    "\n",
    "for row in range(len(n_t_d)):\n",
    "    row_cum_sum = np.cumsum(n_t_d[row])\n",
    "    row_inf = np.sum(n_t_d[row])\n",
    "    for rc in range(len(row_cum_sum)):\n",
    "         y.append(row_cum_sum[rc])\n",
    "         off.append(row_inf)\n",
    "         x.append(rc)\n",
    "\n",
    "plt.scatter(x,off)\n",
    "plt.show()\n",
    "\n",
    "with pm.Model() as pooled_model:\n",
    "    b_intr = pm.Normal('b_intr', mu=0, sd=100 )\n",
    "    b_tst = pm.Normal('b_tst', mu=0, sd=100 )\n",
    "    \n",
    "\n",
    "    # Expected value\n",
    "    y_est = np.exp(b_intr + \\\n",
    "            b_tst * x + np.log(off))\n",
    "\n",
    "    # Data likelihood\n",
    "    y_like = pm.Poisson('y_like', mu=y_est, observed=y)\n",
    "\n",
    "with pooled_model:\n",
    "    start = pm.find_MAP()\n",
    "    hierarchical_trace = pm.sample(2000, step=pm.Metropolis(), start=start, tune=1000)"
   ]
  },
  {
   "cell_type": "code",
   "execution_count": 245,
   "metadata": {},
   "outputs": [
    {
     "name": "stdout",
     "output_type": "stream",
     "text": [
      "(-0.31289535777328864, 0.01779909603929918)\n",
      "{'b_intr': array(-0.3130674), 'b_tst': array(0.0178093)}\n"
     ]
    },
    {
     "data": {
      "image/png": "[encoded data removed]",
      "text/plain": [
       "<matplotlib.figure.Figure at 0x11e820790>"
      ]
     },
     "metadata": {},
     "output_type": "display_data"
    }
   ],
   "source": [
    "intercept,slope = np.mean(hierarchical_trace['b_intr']), np.mean(hierarchical_trace['b_tst'])\n",
    "\n",
    "print (intercept,slope)\n",
    "print (start)\n",
    "\n",
    "plt.plot(np.exp(intercept + slope*np.arange(26)))\n",
    "plt.show()\n"
   ]
  },
  {
   "cell_type": "code",
   "execution_count": 202,
   "metadata": {
    "collapsed": true
   },
   "outputs": [],
   "source": [
    "from scipy.special import expit\n",
    "y_est_rep = []\n",
    "for i in range(26):\n",
    "    y_est_rep.append(intercept+slope* i)"
   ]
  },
  {
   "cell_type": "code",
   "execution_count": 310,
   "metadata": {},
   "outputs": [
    {
     "name": "stdout",
     "output_type": "stream",
     "text": [
      "Running L-BFGS-B (Scipy implementation) Code:\n",
      "  runtime   i      f              |g|        \n",
      "    00s01  0004   1.504906e+02   1.289632e+03 \n",
      "    00s06  0012   7.055023e+01   6.750684e+00 \n",
      "    00s10  0020   6.356429e+01   4.117592e-03 \n",
      "    00s13  0025   6.330370e+01   2.694819e-03 \n",
      "    00s16  0030   6.330105e+01   1.012270e-10 \n",
      "Runtime:     00s16\n",
      "Optimization status: Converged\n",
      "\n",
      "0.9999945646201274\n",
      "0.038470384615384615\n",
      "77\n"
     ]
    }
   ],
   "source": [
    "def logit(p):\n",
    "    return np.log(p/(1-p))\n",
    "\n",
    "def inv_logit(p):\n",
    "    return np.exp(p) / (1 + np.exp(p))\n",
    "\n",
    "\n",
    "p_hat[p_hat <= 0] = .0000000000001\n",
    "p_hat[p_hat >= 1] = .9999999999999\n",
    "p_hat_cum_sum = np.cumsum(p_hat,axis=1)\n",
    "p_hat_cum_sum[p_hat_cum_sum <= 0] = .00001\n",
    "p_hat_cum_sum[p_hat_cum_sum >= 1] = .99999\n",
    "#print (p_hat_cum_sum)\n",
    "#print (logit(p_hat_cum_sum))\n",
    "#plt.scatter(range(len(logit(p_hat_cum_sum)[10,:])),logit(p_hat_cum_sum)[76,:])\n",
    "#plt.ylim(0,1.1)\n",
    "#plt.show()\n",
    "#plt.scatter(range(len(logit(p_hat_cum_sum)[:,10])),logit(p_hat_cum_sum)[:,3])\n",
    "#plt.ylim(0,1.1)\n",
    "\n",
    "#plt.show()\n",
    "\n",
    "#from IPython.display import display\n",
    "\n",
    "import GPy\n",
    "kernel = GPy.kern.RBF(input_dim=1, variance=1., lengthscale=1.)\n",
    "X=np.arange(len(logit(p_hat_cum_sum)[10,:])).reshape((-1,1))\n",
    "y= np.array(logit(p_hat_cum_sum)[20,:]).reshape((-1,1))\n",
    "m = GPy.models.GPRegression(X,y,kernel)\n",
    "m.optimize(messages=True)\n",
    "\n",
    "#display(m)\n",
    "#fig = m.plot(xlim=(-2,30),ylabel=\"logit transformed delay CDF\",xlabel=\"Delay\")\n",
    "#GPy.plotting.show(fig, filename='basic_gp_regression_notebook_optimized')\n",
    "\n",
    "D_test= 10\n",
    "pred_p_gp = inv_logit(m.predict(np.array(D_test).reshape((-1,1))))[0][0][0]\n",
    "print (pred_p_gp)\n",
    "pred_p_mle = np.cumsum(np.mean(p_hat,axis=1)[D_test])[0]\n",
    "print (pred_p_mle)\n",
    "print (len(n_t_d))\n",
    "mse_dirichlet = []\n",
    "mse_gp = []\n",
    "for row in range(len(n_t_d)):\n",
    "    \n",
    "    truth = np.cumsum(n_t_d[row])[D_test]/np.sum(n_t_d[row])\n",
    "    mse_dirichlet.append(np.abs(truth - pred_p_mle))\n",
    "    mse_gp.append(np.abs(truth - pred_p_gp))"
   ]
  },
  {
   "cell_type": "code",
   "execution_count": 309,
   "metadata": {},
   "outputs": [
    {
     "name": "stdout",
     "output_type": "stream",
     "text": [
      "0.9593632025145593\n",
      "0.00216831878247907\n"
     ]
    }
   ],
   "source": [
    "print np.mean(mse_dirichlet)\n",
    "print np.mean(mse_gp)"
   ]
  },
  {
   "cell_type": "code",
   "execution_count": null,
   "metadata": {
    "collapsed": true
   },
   "outputs": [],
   "source": []
  },
  {
   "cell_type": "code",
   "execution_count": null,
   "metadata": {
    "collapsed": true
   },
   "outputs": [],
   "source": []
  }
 ],
 "metadata": {
  "kernelspec": {
   "display_name": "Python 2",
   "language": "python",
   "name": "python2"
  },
  "language_info": {
   "codemirror_mode": {
    "name": "ipython",
    "version": 2
   },
   "file_extension": ".py",
   "mimetype": "text/x-python",
   "name": "python",
   "nbconvert_exporter": "python",
   "pygments_lexer": "ipython2",
   "version": "2.7.13"
  }
 },
 "nbformat": 4,
 "nbformat_minor": 2
}
